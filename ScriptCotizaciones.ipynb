{
 "cells": [
  {
   "cell_type": "code",
   "execution_count": 3,
   "metadata": {},
   "outputs": [],
   "source": [
    "from google.oauth2 import service_account\n",
    "from googleapiclient.discovery import build"
   ]
  },
  {
   "cell_type": "code",
   "execution_count": 4,
   "metadata": {},
   "outputs": [],
   "source": [
    "path_json = \"D:/SITEC/permisos/sitecsolucionesyservicios-67cee8fd8c65.json\"          \n",
    "scopes = ['https://www.googleapis.com/auth/spreadsheets','https://www.googleapis.com/auth/drive'] \n",
    "\n",
    "cred = service_account.Credentials.from_service_account_file(path_json, scopes = scopes)\n",
    "\n",
    "drive = build('drive' , 'v3', credentials = cred)\n",
    "sheets = build('sheets' , 'v4' , credentials = cred)"
   ]
  },
  {
   "cell_type": "code",
   "execution_count": 153,
   "metadata": {},
   "outputs": [],
   "source": [
    "import os\n",
    "from googleapiclient.http import MediaFileUpload\n",
    "\n",
    "\n",
    "flat = sheets.spreadsheets()\n",
    "\n",
    "def extractsheets(service,file_id,r):\n",
    "    return pd.DataFrame(flat.values().get(spreadsheetId = file_id,range = r).execute())\n",
    "\n",
    "def hold_on_premises(file,path_to_save,save_name):   #la ruta de almacenamiento tiene que venir con todo y nombre de archivo\n",
    "    path = os.path.join(path_to_save,save_name)\n",
    "    file.to_csv(path,sep = ',' , index = False, encoding = 'UTF-8')\n",
    "    \n",
    "    print(f'archivo guardado en la ruta {path_to_save}')\n",
    "\n",
    "\n",
    "def hold_on_drive(file,save_name,drive_folder_id):\n",
    "    path = os.path.join('C:/Users/52473/AppData/Local/Temp', save_name)     #La ruta es de la carpeta temporal de cada sistema\n",
    "    file.to_csv(path, sep = ',' , index = False, encoding = 'UTF-8')\n",
    "    \n",
    "    rawfile = MediaFileUpload(path, mimetype = 'text/csv')\n",
    "    metadata_file = { 'name': save_name,\n",
    "                     'parents' : [drive_folder_id]}           #VA EN CORCHETES\n",
    "    file_drive = drive.files().create(body = metadata_file, media_body = rawfile, fields = 'id').execute()\n",
    "    file_id = file_drive.get(id)\n",
    "    print(f\"archivo con ID: {file_id} en la carpeta con ID: {drive_folder_id}\")"
   ]
  },
  {
   "cell_type": "code",
   "execution_count": 116,
   "metadata": {},
   "outputs": [],
   "source": [
    "#Extraemos todas los nombres de las cotizaciones y de sus ID´s por carpeta\n",
    "import pandas as pd\n",
    "\n",
    "def list_files(service):\n",
    "    query = \"mimeType = 'application/vnd.google-apps.folder'\"\n",
    "    res = service.files().list(q = query).execute()\n",
    "    \n",
    "    return (pd.DataFrame(res.get('files',[]))).iloc[:,2:4]\n",
    "\n",
    "    \n",
    "def filesname_folder(service, folder_id):\n",
    "    query = f\"'{folder_id}' in parents\"\n",
    "    res = service.files().list(q = query).execute()\n",
    "    files = pd.DataFrame(res.get('files', []))\n",
    "    return files['name'].tolist() if 'name' in files else []\n",
    "\n",
    "def filesid_folder(service, folder_id):\n",
    "    query = f\"'{folder_id}' in parents\"\n",
    "    res = service.files().list(q = query).execute()\n",
    "    files = pd.DataFrame(res.get('files', []))\n",
    "    return files['id'].tolist() if 'id' in files else []\n"
   ]
  },
  {
   "cell_type": "code",
   "execution_count": 117,
   "metadata": {},
   "outputs": [],
   "source": [
    "#utilizamos las funciones\n",
    "\n",
    "#Creamos una tabla para los nombres de los archivos dentro de carpetas \n",
    "\n",
    "carpetas = list_files(drive)\n",
    "h = carpetas['name'].values\n",
    "\n",
    "files_dict = {nom_carpeta : filesname_folder(drive,folder_id) for nom_carpeta, folder_id in zip(carpetas['name'],carpetas['id'])}\n",
    "    \n",
    "#Rellenamos los espacios con nulos de ser necesario\n",
    "\n",
    "max_files = max(len(files) for files in files_dict.values())\n",
    "for key in files_dict:\n",
    "    files_dict[key].extend([None]*(max_files-len(files_dict[key])))    \n",
    "\n",
    "filesname_drive = pd.DataFrame(files_dict)  \n",
    "\n",
    "\n",
    "#tabla con los Id´s de los archivos\n",
    "\n",
    "carpetas = list_files(drive)\n",
    "h = carpetas['name'].values\n",
    "\n",
    "files_dict = {nom_carpeta : filesid_folder(drive,folder_id) for nom_carpeta, folder_id in zip(carpetas['name'],carpetas['id'])}\n",
    "    \n",
    "#Rellenamos los espacios con nulos de ser necesario\n",
    "\n",
    "max_files = max(len(files) for files in files_dict.values())\n",
    "for key in files_dict:\n",
    "    files_dict[key].extend([None]*(max_files-len(files_dict[key])))    \n",
    "\n",
    "filesid_drive = pd.DataFrame(files_dict)  \n"
   ]
  },
  {
   "cell_type": "code",
   "execution_count": 154,
   "metadata": {},
   "outputs": [
    {
     "name": "stdout",
     "output_type": "stream",
     "text": [
      "archivo con ID: None en la carpeta con ID: 18v2gYYYuIsNnZ8f0o32T5gZixBuG6poa\n",
      "archivo con ID: None en la carpeta con ID: 18v2gYYYuIsNnZ8f0o32T5gZixBuG6poa\n",
      "archivo con ID: None en la carpeta con ID: 18v2gYYYuIsNnZ8f0o32T5gZixBuG6poa\n",
      "archivo con ID: None en la carpeta con ID: 18v2gYYYuIsNnZ8f0o32T5gZixBuG6poa\n",
      "archivo con ID: None en la carpeta con ID: 18v2gYYYuIsNnZ8f0o32T5gZixBuG6poa\n",
      "archivo con ID: None en la carpeta con ID: 18v2gYYYuIsNnZ8f0o32T5gZixBuG6poa\n",
      "archivo con ID: None en la carpeta con ID: 18v2gYYYuIsNnZ8f0o32T5gZixBuG6poa\n",
      "archivo con ID: None en la carpeta con ID: 18v2gYYYuIsNnZ8f0o32T5gZixBuG6poa\n",
      "archivo con ID: None en la carpeta con ID: 18v2gYYYuIsNnZ8f0o32T5gZixBuG6poa\n",
      "archivo con ID: None en la carpeta con ID: 18v2gYYYuIsNnZ8f0o32T5gZixBuG6poa\n",
      "archivo con ID: None en la carpeta con ID: 18v2gYYYuIsNnZ8f0o32T5gZixBuG6poa\n",
      "archivo con ID: None en la carpeta con ID: 18v2gYYYuIsNnZ8f0o32T5gZixBuG6poa\n",
      "archivo con ID: None en la carpeta con ID: 18v2gYYYuIsNnZ8f0o32T5gZixBuG6poa\n",
      "archivo con ID: None en la carpeta con ID: 18v2gYYYuIsNnZ8f0o32T5gZixBuG6poa\n",
      "archivo con ID: None en la carpeta con ID: 18v2gYYYuIsNnZ8f0o32T5gZixBuG6poa\n",
      "archivo con ID: None en la carpeta con ID: 18v2gYYYuIsNnZ8f0o32T5gZixBuG6poa\n",
      "archivo con ID: None en la carpeta con ID: 18v2gYYYuIsNnZ8f0o32T5gZixBuG6poa\n",
      "archivo con ID: None en la carpeta con ID: 18v2gYYYuIsNnZ8f0o32T5gZixBuG6poa\n",
      "archivo con ID: None en la carpeta con ID: 18v2gYYYuIsNnZ8f0o32T5gZixBuG6poa\n",
      "archivo con ID: None en la carpeta con ID: 18v2gYYYuIsNnZ8f0o32T5gZixBuG6poa\n",
      "archivo con ID: None en la carpeta con ID: 18v2gYYYuIsNnZ8f0o32T5gZixBuG6poa\n",
      "archivo con ID: None en la carpeta con ID: 18v2gYYYuIsNnZ8f0o32T5gZixBuG6poa\n",
      "archivo con ID: None en la carpeta con ID: 18v2gYYYuIsNnZ8f0o32T5gZixBuG6poa\n",
      "archivo con ID: None en la carpeta con ID: 18v2gYYYuIsNnZ8f0o32T5gZixBuG6poa\n",
      "archivo con ID: None en la carpeta con ID: 18v2gYYYuIsNnZ8f0o32T5gZixBuG6poa\n",
      "archivo con ID: None en la carpeta con ID: 18v2gYYYuIsNnZ8f0o32T5gZixBuG6poa\n",
      "archivo con ID: None en la carpeta con ID: 18v2gYYYuIsNnZ8f0o32T5gZixBuG6poa\n",
      "Exportación terminada con éxito\n"
     ]
    }
   ],
   "source": [
    "#Extracción por lotes:\n",
    "#Definimos el rango de captura de datos dentro de las cotizaciones\n",
    "\n",
    "r = \"!A1:H200\"\n",
    "path_on_system = 'C:/Users/52473/OneDrive/Documentos/SITEC/Cotizaciones/Capa1 extracciónCSV/2024/Mayo'\n",
    "folder_id= '18v2gYYYuIsNnZ8f0o32T5gZixBuG6poa' \n",
    "#extraemos mayo-2024\n",
    "\n",
    "for j in range(len(filesname_drive)):\n",
    "    if filesname_drive.iloc[j,3] == None or filesid_drive.iloc[j,3] == None:\n",
    "        print(\"Exportación terminada con éxito\")\n",
    "        break\n",
    "    else:    \n",
    "        #hold_on_premises(extractsheets(drive,filesid_drive.iloc[j,3],r),path_on_system,filesname_drive.iloc[j,3])\n",
    "        hold_on_drive(extractsheets(drive,filesid_drive.iloc[j,3],r),filesname_drive.iloc[j,3],folder_id)"
   ]
  },
  {
   "cell_type": "code",
   "execution_count": null,
   "metadata": {},
   "outputs": [],
   "source": []
  },
  {
   "cell_type": "code",
   "execution_count": null,
   "metadata": {},
   "outputs": [],
   "source": []
  }
 ],
 "metadata": {
  "kernelspec": {
   "display_name": "base",
   "language": "python",
   "name": "python3"
  },
  "language_info": {
   "codemirror_mode": {
    "name": "ipython",
    "version": 3
   },
   "file_extension": ".py",
   "mimetype": "text/x-python",
   "name": "python",
   "nbconvert_exporter": "python",
   "pygments_lexer": "ipython3",
   "version": "3.9.13"
  }
 },
 "nbformat": 4,
 "nbformat_minor": 2
}
