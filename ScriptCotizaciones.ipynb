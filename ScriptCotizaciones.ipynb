{
 "cells": [
  {
   "cell_type": "code",
   "execution_count": 3,
   "metadata": {},
   "outputs": [],
   "source": [
    "from google.oauth2 import service_account\n",
    "from googleapiclient.discovery import build"
   ]
  },
  {
   "cell_type": "code",
   "execution_count": 4,
   "metadata": {},
   "outputs": [],
   "source": [
    "path_json = \"D:/SITEC/permisos/sitecsolucionesyservicios-67cee8fd8c65.json\"          \n",
    "scopes = ['https://www.googleapis.com/auth/spreadsheets','https://www.googleapis.com/auth/drive'] \n",
    "\n",
    "cred = service_account.Credentials.from_service_account_file(path_json, scopes = scopes)\n",
    "\n",
    "drive = build('drive' , 'v3', credentials = cred)\n",
    "sheets = build('sheets' , 'v4' , credentials = cred)"
   ]
  },
  {
   "cell_type": "code",
   "execution_count": 5,
   "metadata": {},
   "outputs": [],
   "source": [
    "import os\n",
    "from googleapiclient.http import MediaFileUpload\n",
    "\n",
    "\n",
    "flat = sheets.spreadsheets()\n",
    "\n",
    "def extractsheets(service,file_id,r):\n",
    "    return flat.values().get(spreadhseetId = file_id,range = r).execute()\n",
    "\n",
    "def hold_on_premises(file,path_to_save,save_name,system_file,):   #la ruta de almacenamiento tiene que venir con todo y nombre de archivo\n",
    "    path = os.path.join(path_to_save,save_name)\n",
    "    file.to_csv(path,sep = ',' , index = False, encoding = 'UTF-8')\n",
    "    \n",
    "    print(f'archivo guardado en la ruta {path_to_save}')\n",
    "\n",
    "\n",
    "def hold_on_drive(file,save_name,drive_folder_id,):\n",
    "    path = os.path.join('C:/Users/52473/AppData/Local/Temp', save_name)     #La ruta es de la carpeta temporal de cada sistema\n",
    "    file.to_csv(path, sep = ',' , index = False, encoding = 'UTF-8')\n",
    "    \n",
    "    rawfile = MediaFileUpload(path, mimeType = 'text/CSV')\n",
    "    metadata_file = { 'name': save_name,\n",
    "                     'parents' : drive_folder_id}\n",
    "    drive.files().create(body = metadata_file, media_body = rawfile, fields = 'id').execute()\n",
    "    \n",
    "    print(f\"archivo con ID: {id} en la carpeta con ID: {drive_folder_id}\")"
   ]
  },
  {
   "cell_type": "code",
   "execution_count": 30,
   "metadata": {},
   "outputs": [],
   "source": [
    "#Extraemos todas los nombres de las cotizaciones y de sus ID´s por carpeta\n",
    "import pandas as pd\n",
    "\n",
    "def list_files(service):\n",
    "    query = \"mimeType = 'application/vnd.google-apps.folder'\"\n",
    "    lista = service.files().list(q = query).execute()\n",
    "    \n",
    "    print((lista).keys())\n",
    "    print((lista).values())\n",
    "    \n",
    "    return pd.DataFrame(lista.get('files',[]))[['name']]\n",
    "\n",
    "\n",
    "\n",
    "\n",
    "\n",
    "def files_folder(service, folder_id):\n",
    "    query = f\"'{folder_id}' in parents\"\n",
    "    names_files = service.files().list().list(q = query).execute()\n",
    "    \n",
    "    #print((names_files).keys())\n",
    "    #print((names_files).values())\n",
    "    return pd.DataFrame(names_files.get('files', []))\n"
   ]
  },
  {
   "cell_type": "code",
   "execution_count": 31,
   "metadata": {},
   "outputs": [
    {
     "name": "stdout",
     "output_type": "stream",
     "text": [
      "dict_keys(['kind', 'incompleteSearch', 'files'])\n",
      "dict_values(['drive#fileList', False, [{'kind': 'drive#file', 'mimeType': 'application/vnd.google-apps.folder', 'id': '1tS-6rXHVQna9CD3jafLnQ62Ps4CtZ9xO', 'name': 'LayerExtract'}, {'kind': 'drive#file', 'mimeType': 'application/vnd.google-apps.folder', 'id': '1aggcpf2bYO7v4W3EWuK5b29r7AV4KdIo', 'name': 'LayerRaw'}, {'kind': 'drive#file', 'mimeType': 'application/vnd.google-apps.folder', 'id': '1GQ3QDXxGI9KZvw7p_TxaMaAr35uQyv6R', 'name': 'Mayo'}, {'kind': 'drive#file', 'mimeType': 'application/vnd.google-apps.folder', 'id': '1qoHEiDnu8tRViKXXvkY5IhefgbpJRk0D', 'name': 'Marzo'}, {'kind': 'drive#file', 'mimeType': 'application/vnd.google-apps.folder', 'id': '1D4r5j_15eNU_kcYQUrwDXo8cIZoWAjLL', 'name': 'Febrero'}, {'kind': 'drive#file', 'mimeType': 'application/vnd.google-apps.folder', 'id': '1yk2-DWe8lx5qhuGUVN1hMrHf6LrBPrGn', 'name': 'Abril'}, {'kind': 'drive#file', 'mimeType': 'application/vnd.google-apps.folder', 'id': '1rILstz7vHOzTzbOyf9mArSXMwJ8UcSV1', 'name': 'Enero'}, {'kind': 'drive#file', 'mimeType': 'application/vnd.google-apps.folder', 'id': '10EN84yFQ1ZDtL1D5kPo3G_kl9urJEcjV', 'name': '2024'}, {'kind': 'drive#file', 'mimeType': 'application/vnd.google-apps.folder', 'id': '1CbDMqkSpAIITFLb_8ifr1xIEw3vx14Cy', 'name': 'Septiembre'}, {'kind': 'drive#file', 'mimeType': 'application/vnd.google-apps.folder', 'id': '1hnlpDLk0A0X1c3tM-uDvxKiqVsrFTJs2', 'name': 'Octubre'}, {'kind': 'drive#file', 'mimeType': 'application/vnd.google-apps.folder', 'id': '1c9L2QBxxXXt3DbEB9PFYg83ZOWmCj-od', 'name': 'Junio'}, {'kind': 'drive#file', 'mimeType': 'application/vnd.google-apps.folder', 'id': '1nLtHDNNmR5R-tzdBQVg_8YZfyObTsXCb', 'name': 'Marzo'}, {'kind': 'drive#file', 'mimeType': 'application/vnd.google-apps.folder', 'id': '163TpepK2xo_oELCiR_yUy7g0GMRpq_nJ', 'name': 'Noviembre'}, {'kind': 'drive#file', 'mimeType': 'application/vnd.google-apps.folder', 'id': '1EH_gsyqFpZ7VIfNXU-I3Wmyq8-RUyhDS', 'name': 'Mayo'}, {'kind': 'drive#file', 'mimeType': 'application/vnd.google-apps.folder', 'id': '1E6_RVwCqY7QsC-S--PIO6A9GCUWSA1LM', 'name': 'Enero'}, {'kind': 'drive#file', 'mimeType': 'application/vnd.google-apps.folder', 'id': '10OADCKK1dBt7m-WRf-3f7JB3PtOFOa5g', 'name': 'Diciembre'}, {'kind': 'drive#file', 'mimeType': 'application/vnd.google-apps.folder', 'id': '1amvkVmOMNo925JAo_58k5i-sebDxOlsi', 'name': 'Julio'}, {'kind': 'drive#file', 'mimeType': 'application/vnd.google-apps.folder', 'id': '1euniQHtigUfXlVYKQPRUTMX-VOcnUkj9', 'name': 'Febrero'}, {'kind': 'drive#file', 'mimeType': 'application/vnd.google-apps.folder', 'id': '1yn9nFuebRakx6_eZp3mmXvAO4Cja1rkp', 'name': 'Agosto'}, {'kind': 'drive#file', 'mimeType': 'application/vnd.google-apps.folder', 'id': '1MrjMVR8hyBANC7iQOAmNk-ReahWk8JG0', 'name': 'Abril'}, {'kind': 'drive#file', 'mimeType': 'application/vnd.google-apps.folder', 'id': '1T3-fhG6S0ZFWRbaINFC42Hv0xlaNLKJ1', 'name': '2023'}, {'kind': 'drive#file', 'mimeType': 'application/vnd.google-apps.folder', 'id': '1fT3E2QXncZI3NFgD44AMnWNdV9bmNXoK', 'name': 'Archivos antiguos'}, {'kind': 'drive#file', 'mimeType': 'application/vnd.google-apps.folder', 'id': '1Zi0tlWbPx62WV5i37FeFY85ogSOyJ0QD', 'name': 'Cotizaciones'}]])\n",
      "                 name\n",
      "0        LayerExtract\n",
      "1            LayerRaw\n",
      "2                Mayo\n",
      "3               Marzo\n",
      "4             Febrero\n",
      "5               Abril\n",
      "6               Enero\n",
      "7                2024\n",
      "8          Septiembre\n",
      "9             Octubre\n",
      "10              Junio\n",
      "11              Marzo\n",
      "12          Noviembre\n",
      "13               Mayo\n",
      "14              Enero\n",
      "15          Diciembre\n",
      "16              Julio\n",
      "17            Febrero\n",
      "18             Agosto\n",
      "19              Abril\n",
      "20               2023\n",
      "21  Archivos antiguos\n",
      "22       Cotizaciones\n"
     ]
    }
   ],
   "source": [
    "#realizaremos la extracción conjunta\n",
    "\n",
    "carpetas = list_files(drive)\n",
    "\n",
    "print(carpetas)"
   ]
  },
  {
   "cell_type": "code",
   "execution_count": null,
   "metadata": {},
   "outputs": [],
   "source": []
  }
 ],
 "metadata": {
  "kernelspec": {
   "display_name": "base",
   "language": "python",
   "name": "python3"
  },
  "language_info": {
   "codemirror_mode": {
    "name": "ipython",
    "version": 3
   },
   "file_extension": ".py",
   "mimetype": "text/x-python",
   "name": "python",
   "nbconvert_exporter": "python",
   "pygments_lexer": "ipython3",
   "version": "3.9.13"
  }
 },
 "nbformat": 4,
 "nbformat_minor": 2
}
