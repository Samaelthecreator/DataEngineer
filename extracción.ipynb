{
 "cells": [
  {
   "cell_type": "markdown",
   "metadata": {},
   "source": [
    "Librerias a trabajar con Google Drive & Google Sheets"
   ]
  },
  {
   "cell_type": "code",
   "execution_count": 1,
   "metadata": {},
   "outputs": [],
   "source": [
    "from google.oauth2 import service_account\n",
    "from googleapiclient.discovery import build\n",
    "import gspread\n",
    "import pprint\n",
    "import pandas as pd\n",
    "import numpy as np"
   ]
  },
  {
   "cell_type": "code",
   "execution_count": 2,
   "metadata": {},
   "outputs": [],
   "source": [
    "#Documentación\n",
    "ruta_accesos = \"D:/SITEC/permisos/sitecsolucionesyservicios-67cee8fd8c65.json\"\n",
    "alcances = ['https://www.googleapis.com/auth/spreadsheets','https://www.googleapis.com/auth/drive']\n",
    "\n",
    "\n",
    "#autenticación\n",
    "credenciales = service_account.Credentials.from_service_account_file(ruta_accesos,scopes = alcances) \n",
    "\n",
    "#construir el servicio de google drive\n",
    "drive = build('drive', 'v3', credentials= credenciales)\n",
    "\n",
    "# Ruta al archivo JSON de credenciales de la cuenta de servicio\n",
    "ruta_accesos = \"D:/SITEC/permisos/sitecsolucionesyservicios-67cee8fd8c65.json\"\n",
    "alcances = ['https://www.googleapis.com/auth/spreadsheets', 'https://www.googleapis.com/auth/drive']\n",
    "\n",
    "# Autenticación\n",
    "credenciales = service_account.Credentials.from_service_account_file(ruta_accesos, scopes=alcances)\n",
    "\n",
    "# Construir el servicio de Google Drive\n",
    "drive = build('drive', 'v3', credentials=credenciales)"
   ]
  },
  {
   "cell_type": "code",
   "execution_count": null,
   "metadata": {},
   "outputs": [],
   "source": [
    "#Funcion de lectura de documentos de google drive:\n",
    "def lista_carpetas(service):\n",
    "    query = \"mimeType='application/vnd.google-apps.folder'\" #tipo de archivo de google Drive (Multipurpose Internet Mail Extensions-MIME)\n",
    "    resultados = service.files().list(q=query).execute()\n",
    "    carpetas = pd.DataFrame(resultados.get('files', []))\n",
    "    \n",
    "    return carpetas[['name','id']]\n",
    "\n",
    "carpetas = lista_carpetas(drive)\n",
    "dimh = len(carpetas)\n",
    "print(carpetas.iloc[:,:])\n"
   ]
  },
  {
   "cell_type": "code",
   "execution_count": 4,
   "metadata": {},
   "outputs": [],
   "source": [
    "#funcion para extraer los nombres de los archivos dentro de las carpetas\n",
    "def archivos_en_carpeta(service, folder_id):\n",
    "    query = f\"'{folder_id}' in parents\"\n",
    "    resultados = service.files().list(q=query).execute()\n",
    "    archivos = pd.DataFrame(resultados.get('files', []))\n",
    "    return archivos['name'].tolist() if 'name' in archivos else []"
   ]
  },
  {
   "cell_type": "markdown",
   "metadata": {},
   "source": [
    "propio+gpt"
   ]
  },
  {
   "cell_type": "code",
   "execution_count": 5,
   "metadata": {},
   "outputs": [],
   "source": [
    "#Generamos encabezados\n",
    "h = carpetas['name'].values\n",
    "\n",
    "#creamos un diccionario para almacenar los archivos por carpeta\n",
    "archivos_dict = {nom_carpeta: archivos_en_carpeta(drive,folder_id) for nom_carpeta,folder_id in zip(carpetas['name'],carpetas['id'])}\n",
    "#convertimos el diccionario en un dataframe\n",
    "\n",
    "max_files = max(len(files) for files in archivos_dict.values())\n",
    "for key in archivos_dict:\n",
    "    archivos_dict[key].extend([None]*(max_files-len(archivos_dict[key])))   #se crea el dataframe con la cantidad de archivos máximos de una carpeta, consecutivo los demas con valor None.\n",
    "\n",
    "datos = pd.DataFrame(archivos_dict)\n",
    "    "
   ]
  },
  {
   "cell_type": "code",
   "execution_count": null,
   "metadata": {},
   "outputs": [],
   "source": [
    "print(datos)"
   ]
  },
  {
   "cell_type": "markdown",
   "metadata": {},
   "source": [
    "Transformacion de archivos .xlsx a archivos .googlesheet\n"
   ]
  },
  {
   "cell_type": "code",
   "execution_count": null,
   "metadata": {},
   "outputs": [],
   "source": [
    "#convertiremos una unidad (un archivo) de xlsx. a google sheet para posteriormente aplicarlo de forma general\n",
    " \n",
    "#Del anterior código requerimos: file_id & nombre_hoja_calculo \n",
    " \n",
    "def conversor_xlsx_to_gs(servicio, file_id, nom_hoja_calculo):\n",
    "    #configuramos los metadatos del nuevo archivo para que cambie el formato del archivo\n",
    "    metadata_archivo = {\n",
    "        'name' : nom_hoja_calculo,\n",
    "        'mimeType' : 'application/vnd.google-apps.spreadsheets'\n",
    "    }\n",
    "#Realizamos la copia con las conversiones\n",
    "    archivo_google_sheet = servicio.files().copy(\n",
    "        fileId = file_id,\n",
    "        body = metadata_archivo\n",
    "    ).execute()\n",
    " \n",
    "    return archivo_google_sheet\n",
    "\n",
    "\n",
    "id_archivo = '1OVmEqrA63SzrM8XXcjLhUz3XfaPnAiU4'    \n",
    "nombre_archivo = 'Abril2024edades.xlsx'\n",
    "#guardamos el archivo en un objeto\n",
    "archivo_convertido = conversor_xlsx_to_gs(drive,id_archivo,nombre_archivo)\n",
    "print(archivo_convertido)\n"
   ]
  },
  {
   "cell_type": "code",
   "execution_count": 25,
   "metadata": {},
   "outputs": [
    {
     "name": "stdout",
     "output_type": "stream",
     "text": [
      "Archivo encontrado: Abril2024edades.xlsx con MIME type: application/vnd.openxmlformats-officedocument.spreadsheetml.sheet\n",
      "El ID del archivo es: 1OVmEqrA63SzrM8XXcjLhUz3XfaPnAiU4\n",
      "La cuenta de servicio sitecsolucionesyservicios@sitecsolucionesyservicios.iam.gserviceaccount.com no tiene los permisos necesarios para modificar el archivo.\n"
     ]
    }
   ],
   "source": [
    "# Función para verificar permisos del archivo\n",
    "def verificar_permisos(servicio, file_id, email_usuario):\n",
    "    permisos = servicio.permissions().list(fileId=file_id).execute()\n",
    "    for permiso in permisos.get('permissions', []):\n",
    "        if permiso.get('emailAddress') == email_usuario:\n",
    "            return True\n",
    "    return False\n",
    "\n",
    "# Función para convertir un archivo .xlsx a Google Sheets\n",
    "def conversor_xlsx_to_gs(servicio, file_id, nom_hoja_calculo):\n",
    "    # Configuramos los metadatos del nuevo archivo para que cambie el formato del archivo\n",
    "    metadata_archivo = {\n",
    "        'name': nom_hoja_calculo,\n",
    "        'mimeType': 'application/vnd.google-apps.spreadsheet'\n",
    "    }\n",
    "\n",
    "    try:\n",
    "        # Realizamos la copia con las conversiones\n",
    "        archivo_google_sheet = servicio.files().copy(\n",
    "            fileId=file_id,\n",
    "            body=metadata_archivo\n",
    "        ).execute()\n",
    "    except Exception as e:\n",
    "        print(f\"Error al intentar copiar el archivo: {e}\")\n",
    "        return None\n",
    "    \n",
    "    return archivo_google_sheet\n",
    "\n",
    "# Función para obtener el ID de un archivo dado su nombre\n",
    "def obtener_id_archivo(service, nombre_archivo):\n",
    "    results = service.files().list(\n",
    "        q=f\"name='{nombre_archivo}'\",\n",
    "        spaces='drive',\n",
    "        fields='files(id, name, mimeType)').execute()\n",
    "    items = results.get('files', [])\n",
    "    \n",
    "    if not items:\n",
    "        print(f\"No se encontró ningún archivo con el nombre {nombre_archivo}.\")\n",
    "        return None\n",
    "    else:\n",
    "        print(f\"Archivo encontrado: {items[0]['name']} con MIME type: {items[0]['mimeType']}\")\n",
    "        return items[0]['id']\n",
    "\n",
    "# Uso del servicio de Google Drive autenticado\n",
    "# servicio_drive = autenticar_google_drive()  # Supongamos que ya tienes el servicio autenticado\n",
    "\n",
    "# Nombre del archivo del que quieres obtener el ID\n",
    "nombre_archivo = 'Abril2024edades.xlsx'\n",
    "\n",
    "# Obtener el ID del archivo y guardarlo en un objeto\n",
    "file_id = obtener_id_archivo(drive, nombre_archivo)\n",
    "\n",
    "if file_id:\n",
    "    print(f\"El ID del archivo es: {file_id}\")\n",
    "\n",
    "    # Verificar permisos\n",
    "    email_cuenta_servicio = 'sitecsolucionesyservicios@sitecsolucionesyservicios.iam.gserviceaccount.com'\n",
    "    if verificar_permisos(drive, file_id, email_cuenta_servicio):\n",
    "        # Convertir el archivo .xlsx a Google Sheets\n",
    "        archivo_convertido = conversor_xlsx_to_gs(drive, file_id, nombre_archivo)\n",
    "        if archivo_convertido:\n",
    "            print(\"Archivo convertido exitosamente:\")\n",
    "            print(archivo_convertido)\n",
    "        else:\n",
    "            print(\"No se pudo convertir el archivo.\")\n",
    "    else:\n",
    "        print(f\"La cuenta de servicio {email_cuenta_servicio} no tiene los permisos necesarios para modificar el archivo.\")\n",
    "else:\n",
    "    print(\"No se pudo obtener el ID del archivo.\")\n",
    "\n",
    "\n",
    "\n"
   ]
  },
  {
   "cell_type": "markdown",
   "metadata": {},
   "source": [
    "Eliminar el archivo .xslx "
   ]
  },
  {
   "cell_type": "code",
   "execution_count": 22,
   "metadata": {},
   "outputs": [],
   "source": [
    "def eliminar_archivo(servicio,file_id):\n",
    "    servicio.files().delete(fileId = file_id).execute()\n",
    "    print(f\"archivo con ID: {file_id} eliminado\")"
   ]
  },
  {
   "cell_type": "markdown",
   "metadata": {},
   "source": [
    "Obtener ubicacion archivo original"
   ]
  },
  {
   "cell_type": "code",
   "execution_count": 23,
   "metadata": {},
   "outputs": [],
   "source": [
    "def carpeta_padre(servicio,file_id):\n",
    "    archivo = servicio.files().get(fileID = file_id, fields='parents').execute()\n",
    "    return archivo.get('parents')[0] if archivo.get('parents') else None"
   ]
  },
  {
   "cell_type": "markdown",
   "metadata": {},
   "source": [
    "Mover archivo a la ubicacion original"
   ]
  },
  {
   "cell_type": "code",
   "execution_count": null,
   "metadata": {},
   "outputs": [],
   "source": [
    "def mover_archivo(servicio,file_id,carpeta_id):\n",
    "    archivo = servicio.files.get(fileID = file_id, fields = 'parents').execute\n",
    "    ubicacion_actual = archivo.get('parents')\n",
    "    \n",
    "    if ubicacion_actual:\n",
    "        for carpeta in ubicacion_actual:\n",
    "            servicio.files().get(FileId = file_id, removeParents = carpeta).execute()\n",
    "    #Agregar archivo a la ubicacion actual\n",
    "    servicio.files().update(fileId = file_id, addParents=carpeta_id).execute()\n",
    "    print(f\"el archivo con ID:{file_id} ha sido movido a la carpeta con ID: {carpeta_id}\")    \n",
    "    \n",
    "    \n"
   ]
  },
  {
   "cell_type": "code",
   "execution_count": 12,
   "metadata": {},
   "outputs": [
    {
     "name": "stdout",
     "output_type": "stream",
     "text": [
      "El ID del archivo es: 1OVmEqrA63SzrM8XXcjLhUz3XfaPnAiU4\n"
     ]
    }
   ],
   "source": [
    "#El archivo debe pertenecer a una carpeta, de no ser asi no detectará el archivo\n",
    "def obtener_id_archivo(service, nombre_archivo):\n",
    "    results = service.files().list(\n",
    "        q=f\"name='{nombre_archivo}'\",\n",
    "        spaces='drive',\n",
    "        fields='files(id, name)').execute()\n",
    "    items = results.get('files', [])\n",
    "    \n",
    "    if not items:\n",
    "        print(f\"No se encontró ningún archivo con el nombre {nombre_archivo}.\")\n",
    "        return None\n",
    "    else:\n",
    "        return items[0]['id']\n",
    "\n",
    "# Uso del servicio de Google Drive autenticado\n",
    "# servicio_drive = autenticar_google_drive()  # Supongamos que ya tienes el servicio autenticado\n",
    "\n",
    "# Nombre del archivo del que quieres obtener el ID\n",
    "nombre_archivo = 'Abril2024edades.xlsx'\n",
    "\n",
    "# Obtener el ID del archivo y guardarlo en un objeto\n",
    "file_id = obtener_id_archivo(drive, nombre_archivo)\n",
    "\n",
    "if file_id:\n",
    "    print(f\"El ID del archivo es: {file_id}\")\n"
   ]
  },
  {
   "cell_type": "code",
   "execution_count": 38,
   "metadata": {},
   "outputs": [
    {
     "ename": "TypeError",
     "evalue": "Got an unexpected keyword argument fileID",
     "output_type": "error",
     "traceback": [
      "\u001b[1;31m---------------------------------------------------------------------------\u001b[0m",
      "\u001b[1;31mTypeError\u001b[0m                                 Traceback (most recent call last)",
      "\u001b[1;32m~\\AppData\\Local\\Temp\\ipykernel_13260\\3993428818.py\u001b[0m in \u001b[0;36m<module>\u001b[1;34m\u001b[0m\n\u001b[0;32m      4\u001b[0m \u001b[0mnombre_archivo\u001b[0m \u001b[1;33m=\u001b[0m \u001b[1;34m'Abril2024edades.xslx'\u001b[0m\u001b[1;33m\u001b[0m\u001b[1;33m\u001b[0m\u001b[0m\n\u001b[0;32m      5\u001b[0m \u001b[1;31m#guardamos el archivo en un objeto\u001b[0m\u001b[1;33m\u001b[0m\u001b[1;33m\u001b[0m\u001b[0m\n\u001b[1;32m----> 6\u001b[1;33m \u001b[0marchivo_convertido\u001b[0m \u001b[1;33m=\u001b[0m \u001b[0mconversor_xlsx_to_gs\u001b[0m\u001b[1;33m(\u001b[0m\u001b[0mdrive\u001b[0m\u001b[1;33m,\u001b[0m\u001b[0mid_archivo\u001b[0m\u001b[1;33m,\u001b[0m\u001b[0mnombre_archivo\u001b[0m\u001b[1;33m)\u001b[0m\u001b[1;33m\u001b[0m\u001b[1;33m\u001b[0m\u001b[0m\n\u001b[0m\u001b[0;32m      7\u001b[0m \u001b[0mprint\u001b[0m\u001b[1;33m(\u001b[0m\u001b[0marchivo_convertido\u001b[0m\u001b[1;33m)\u001b[0m\u001b[1;33m\u001b[0m\u001b[1;33m\u001b[0m\u001b[0m\n\u001b[0;32m      8\u001b[0m \u001b[1;33m\u001b[0m\u001b[0m\n",
      "\u001b[1;32m~\\AppData\\Local\\Temp\\ipykernel_13260\\600336615.py\u001b[0m in \u001b[0;36mconversor_xlsx_to_gs\u001b[1;34m(servicio, file_id, nom_hoja_calculo)\u001b[0m\n\u001b[0;32m     10\u001b[0m     }\n\u001b[0;32m     11\u001b[0m \u001b[1;31m#Realizamos la copia con las conversiones\u001b[0m\u001b[1;33m\u001b[0m\u001b[1;33m\u001b[0m\u001b[0m\n\u001b[1;32m---> 12\u001b[1;33m     archivo_google_sheet = servicio.files().copy(\n\u001b[0m\u001b[0;32m     13\u001b[0m         \u001b[0mfileID\u001b[0m \u001b[1;33m=\u001b[0m \u001b[0mfile_id\u001b[0m\u001b[1;33m,\u001b[0m\u001b[1;33m\u001b[0m\u001b[1;33m\u001b[0m\u001b[0m\n\u001b[0;32m     14\u001b[0m         \u001b[0mbody\u001b[0m\u001b[1;33m=\u001b[0m\u001b[0mmetadata_archivo\u001b[0m\u001b[1;33m\u001b[0m\u001b[1;33m\u001b[0m\u001b[0m\n",
      "\u001b[1;32mc:\\Users\\52473\\anaconda3\\lib\\site-packages\\googleapiclient\\discovery.py\u001b[0m in \u001b[0;36mmethod\u001b[1;34m(self, **kwargs)\u001b[0m\n\u001b[0;32m   1097\u001b[0m         \u001b[1;32mfor\u001b[0m \u001b[0mname\u001b[0m \u001b[1;32min\u001b[0m \u001b[0mkwargs\u001b[0m\u001b[1;33m:\u001b[0m\u001b[1;33m\u001b[0m\u001b[1;33m\u001b[0m\u001b[0m\n\u001b[0;32m   1098\u001b[0m             \u001b[1;32mif\u001b[0m \u001b[0mname\u001b[0m \u001b[1;32mnot\u001b[0m \u001b[1;32min\u001b[0m \u001b[0mparameters\u001b[0m\u001b[1;33m.\u001b[0m\u001b[0margmap\u001b[0m\u001b[1;33m:\u001b[0m\u001b[1;33m\u001b[0m\u001b[1;33m\u001b[0m\u001b[0m\n\u001b[1;32m-> 1099\u001b[1;33m                 \u001b[1;32mraise\u001b[0m \u001b[0mTypeError\u001b[0m\u001b[1;33m(\u001b[0m\u001b[1;34m\"Got an unexpected keyword argument {}\"\u001b[0m\u001b[1;33m.\u001b[0m\u001b[0mformat\u001b[0m\u001b[1;33m(\u001b[0m\u001b[0mname\u001b[0m\u001b[1;33m)\u001b[0m\u001b[1;33m)\u001b[0m\u001b[1;33m\u001b[0m\u001b[1;33m\u001b[0m\u001b[0m\n\u001b[0m\u001b[0;32m   1100\u001b[0m \u001b[1;33m\u001b[0m\u001b[0m\n\u001b[0;32m   1101\u001b[0m         \u001b[1;31m# Remove args that have a value of None.\u001b[0m\u001b[1;33m\u001b[0m\u001b[1;33m\u001b[0m\u001b[0m\n",
      "\u001b[1;31mTypeError\u001b[0m: Got an unexpected keyword argument fileID"
     ]
    }
   ],
   "source": [
    "#definimos los datos de forma local:\n",
    "   \n",
    "id_archivo = '1OVmEqrA63SzrM8XXcjLhUz3XfaPnAiU4'    \n",
    "nombre_archivo = 'Abril2024edades.xslx'\n",
    "#guardamos el archivo en un objeto\n",
    "archivo_convertido = conversor_xlsx_to_gs(drive,id_archivo,nombre_archivo)\n",
    "print(archivo_convertido)\n",
    "\n",
    "#Obtenemos la carpeta padre (original)\n",
    "carpeta_padre_id = carpeta_padre(drive,id_archivo)\n",
    "print(carpeta_padre_id)\n",
    "\n",
    "#Eliminamos el archivo viejo\n",
    "eliminar_archivo(drive,id_archivo)\n",
    "\n",
    "#mover archivo convertido a la carpeta original\n",
    "mover_archivo(drive,id_archivo, carpeta_padre_id)\n",
    "\n",
    "\n",
    "\n",
    "if carpeta_padre_id:\n",
    "    mover_archivo(drive,archivo_convertido['id'], carpeta_padre_id)\n",
    "else:\n",
    "    print(\"el archivo original no tenia una carpeta padre\")    "
   ]
  }
 ],
 "metadata": {
  "kernelspec": {
   "display_name": "MachineandDeepLearning",
   "language": "python",
   "name": "python3"
  },
  "language_info": {
   "codemirror_mode": {
    "name": "ipython",
    "version": 3
   },
   "file_extension": ".py",
   "mimetype": "text/x-python",
   "name": "python",
   "nbconvert_exporter": "python",
   "pygments_lexer": "ipython3",
   "version": "3.9.13"
  }
 },
 "nbformat": 4,
 "nbformat_minor": 2
}
