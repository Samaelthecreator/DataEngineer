{
 "cells": [
  {
   "cell_type": "markdown",
   "metadata": {
    "id": "G8gQQ8j7oGCe"
   },
   "source": [
    "# Transformacion de los esquemas JSON."
   ]
  },
  {
   "cell_type": "code",
   "execution_count": 136,
   "metadata": {},
   "outputs": [
    {
     "name": "stdout",
     "output_type": "stream",
     "text": [
      "Peticiones realizadas con éxito\n"
     ]
    }
   ],
   "source": [
    "#Peticiones\n",
    "#importamos la libreria para eralizar peticiones al servidor\n",
    "import pandas as pd\n",
    "import numpy as np\n",
    "import re\n",
    "import requests as req\n",
    "\n",
    "url_personas = \"https://wstest.paulsaenzsucre.dev/people\"\n",
    "url_proyectos = \"https://wstest.paulsaenzsucre.dev/projects\"\n",
    "url_asistencias = \"https://wstest.paulsaenzsucre.dev/attendances\"\n",
    "\n",
    "personas = req.get(url_personas)\n",
    "proyectos = req.get(url_proyectos)\n",
    "asistencias = req.get(url_asistencias)\n",
    "\n",
    "\n",
    "\n",
    "if personas.status_code == 200 | proyectos.status_code == 200 | asistencias.status_code == 200:\n",
    "\n",
    "    print(\"Peticiones realizadas con éxito\")\n",
    "else: \n",
    "    print(f\"Error {personas.status_code} & {proyectos.status_code} & {asistencias.status_code}\")\n"
   ]
  },
  {
   "cell_type": "code",
   "execution_count": 137,
   "metadata": {
    "colab": {
     "base_uri": "https://localhost:8080/",
     "height": 125
    },
    "executionInfo": {
     "elapsed": 733,
     "status": "ok",
     "timestamp": 1726608252719,
     "user": {
      "displayName": "René Samael Flores Ortega",
      "userId": "03681042582490242854"
     },
     "user_tz": 360
    },
    "id": "pYEToJQY507S",
    "outputId": "ab7d9534-3289-4b31-f4a9-b08552085e08"
   },
   "outputs": [
    {
     "name": "stdout",
     "output_type": "stream",
     "text": [
      "[\"[{'id': 1, 'code': 'Ob219932', 'name': 'Proyecto 01', 'location': {'latitude': -12.1758997, 'longitude': -76.945643, 'name': 'La Ruta', 'address': 'Av. Los Palos 234.'}, 'radius': 50\", \"'id': 2, 'code': 'Ob219933', 'name': 'Proyecto 02', 'location': {'latitude': 20.552370071411, 'longitude': -100.38117980957, 'name': 'La Ruta', 'address': 'Av. Los Palos 234.'}, 'radius': 50}]\"]\n"
     ]
    }
   ],
   "source": [
    "from pprint import pprint\n",
    "#Para los objetos personas\n",
    "df_personas = pd.DataFrame(personas.json())\n",
    "\n",
    "\n",
    "#Para los objetos asistencias\n",
    "df_asistencias = pd.DataFrame(asistencias.json())\n",
    "\n",
    "#Para el objeto proyectos lo convertimos en cadena para tratarlo y separamos los proyectos individuales\n",
    "list_proyectos = str(proyectos.json()).split('}, {')\n",
    "print(list_proyectos)\n"
   ]
  },
  {
   "cell_type": "code",
   "execution_count": 204,
   "metadata": {},
   "outputs": [
    {
     "data": {
      "text/html": [
       "<div>\n",
       "<style scoped>\n",
       "    .dataframe tbody tr th:only-of-type {\n",
       "        vertical-align: middle;\n",
       "    }\n",
       "\n",
       "    .dataframe tbody tr th {\n",
       "        vertical-align: top;\n",
       "    }\n",
       "\n",
       "    .dataframe thead th {\n",
       "        text-align: right;\n",
       "    }\n",
       "</style>\n",
       "<table border=\"1\" class=\"dataframe\">\n",
       "  <thead>\n",
       "    <tr style=\"text-align: right;\">\n",
       "      <th></th>\n",
       "      <th>id</th>\n",
       "      <th>code</th>\n",
       "      <th>name</th>\n",
       "      <th>latitude</th>\n",
       "      <th>longitude</th>\n",
       "      <th>name</th>\n",
       "      <th>address</th>\n",
       "      <th>radius</th>\n",
       "    </tr>\n",
       "  </thead>\n",
       "  <tbody>\n",
       "    <tr>\n",
       "      <th>0</th>\n",
       "      <td>1</td>\n",
       "      <td>Ob219932</td>\n",
       "      <td>Proyecto 01</td>\n",
       "      <td>-12.17590</td>\n",
       "      <td>-76.945643</td>\n",
       "      <td>La Ruta</td>\n",
       "      <td>Av. Los Palos 234.</td>\n",
       "      <td>50</td>\n",
       "    </tr>\n",
       "    <tr>\n",
       "      <th>1</th>\n",
       "      <td>2</td>\n",
       "      <td>Ob219933</td>\n",
       "      <td>Proyecto 02</td>\n",
       "      <td>20.55237</td>\n",
       "      <td>-100.381180</td>\n",
       "      <td>La Ruta</td>\n",
       "      <td>Av. Los Palos 234.</td>\n",
       "      <td>50</td>\n",
       "    </tr>\n",
       "  </tbody>\n",
       "</table>\n",
       "</div>"
      ],
      "text/plain": [
       "   id      code         name  latitude   longitude     name  \\\n",
       "0   1  Ob219932  Proyecto 01 -12.17590  -76.945643  La Ruta   \n",
       "1   2  Ob219933  Proyecto 02  20.55237 -100.381180  La Ruta   \n",
       "\n",
       "              address  radius  \n",
       "0  Av. Los Palos 234.      50  \n",
       "1  Av. Los Palos 234.      50  "
      ]
     },
     "execution_count": 204,
     "metadata": {},
     "output_type": "execute_result"
    }
   ],
   "source": [
    "import json\n",
    "import ast\n",
    "\n",
    "str_locaciones = []\n",
    "str_proyectos = []\n",
    "for p in range(0,len(list_proyectos)):\n",
    "    str_locaciones.append(list_proyectos[p][re.search(\"\\{'latitude':\" ,list_proyectos[p]).span()[0] : re.search(\"'radius': \\d+\",list_proyectos[p]).span()[1]] + '}')\n",
    "    str_proyectos.append(list_proyectos[p].replace(str_locaciones[p].strip('}'), \"''\"))\n",
    "\n",
    "#realizamos una pequeña limpieza de los datos.\n",
    "for l in range(len(str_locaciones)):\n",
    "    str_locaciones[l] = str_locaciones[l].replace('}, ' , ',')\n",
    "\n",
    "#Para los extremos\n",
    "str_proyectos[0] = str_proyectos[0].replace('[' , '') + '}'\n",
    "str_proyectos[-1] = str_proyectos[-1].replace(']','')\n",
    "\n",
    "#Para los medios\n",
    "for l in range(1,len(str_proyectos)):\n",
    "    str_proyectos[l] = '{' + str_proyectos[l]\n",
    "\n",
    "#Convertimos las cadenas en diccionarios\n",
    "dict_locaciones = [ast.literal_eval(cadena) for cadena in str_locaciones]\n",
    "dict_proyectos = [ast.literal_eval(cadena) for cadena in str_proyectos]\n",
    "\n",
    "#Convertimos los diccionarios en dataframes\n",
    "df_locaciones = pd.DataFrame(dict_locaciones)\n",
    "df_proyectos = pd.DataFrame(dict_proyectos)\n",
    "\n",
    "#Juntamos la información\n",
    "proyectos = pd.concat([df_proyectos,df_locaciones], axis = 1).drop(columns=['location'])\n",
    "proyectos\n"
   ]
  },
  {
   "cell_type": "code",
   "execution_count": 6,
   "metadata": {
    "executionInfo": {
     "elapsed": 246,
     "status": "ok",
     "timestamp": 1726601871826,
     "user": {
      "displayName": "René Samael Flores Ortega",
      "userId": "03681042582490242854"
     },
     "user_tz": 360
    },
    "id": "28z7ZHvwmpYL"
   },
   "outputs": [
    {
     "ename": "IndexError",
     "evalue": "list index out of range",
     "output_type": "error",
     "traceback": [
      "\u001b[1;31m---------------------------------------------------------------------------\u001b[0m",
      "\u001b[1;31mIndexError\u001b[0m                                Traceback (most recent call last)",
      "Cell \u001b[1;32mIn[6], line 24\u001b[0m\n\u001b[0;32m     21\u001b[0m r \u001b[38;5;241m=\u001b[39m [i\u001b[38;5;241m.\u001b[39mreplace(\u001b[38;5;124m'\u001b[39m\u001b[38;5;124m\"\u001b[39m\u001b[38;5;124mlocation\u001b[39m\u001b[38;5;124m\"\u001b[39m\u001b[38;5;124m: \u001b[39m\u001b[38;5;124m{\u001b[39m\u001b[38;5;124m'\u001b[39m,\u001b[38;5;124m'\u001b[39m\u001b[38;5;124m'\u001b[39m) \u001b[38;5;28;01mfor\u001b[39;00m i \u001b[38;5;129;01min\u001b[39;00m r]\n\u001b[0;32m     23\u001b[0m \u001b[38;5;66;03m#extraemos los radios de ubicacion:\u001b[39;00m\n\u001b[1;32m---> 24\u001b[0m radios \u001b[38;5;241m=\u001b[39m pd\u001b[38;5;241m.\u001b[39mDataFrame({\u001b[38;5;124m'\u001b[39m\u001b[38;5;124mradius\u001b[39m\u001b[38;5;124m'\u001b[39m : re\u001b[38;5;241m.\u001b[39mfindall(\u001b[38;5;124mr\u001b[39m\u001b[38;5;124m'\u001b[39m\u001b[38;5;124m\"\u001b[39m\u001b[38;5;124mradius\u001b[39m\u001b[38;5;124m\"\u001b[39m\u001b[38;5;124m:\u001b[39m\u001b[38;5;124m\\\u001b[39m\u001b[38;5;124ms*(\u001b[39m\u001b[38;5;124m\\\u001b[39m\u001b[38;5;124md+)\u001b[39m\u001b[38;5;124m'\u001b[39m,\u001b[43mr\u001b[49m\u001b[43m[\u001b[49m\u001b[38;5;241;43m1\u001b[39;49m\u001b[43m]\u001b[49m)})\n\u001b[0;32m     25\u001b[0m \u001b[38;5;66;03m#Separamos las estructuras de datos por empleado\u001b[39;00m\n\u001b[0;32m     26\u001b[0m l \u001b[38;5;241m=\u001b[39m [re\u001b[38;5;241m.\u001b[39mfindall(\u001b[38;5;124mr\u001b[39m\u001b[38;5;124m'\u001b[39m\u001b[38;5;124m\\\u001b[39m\u001b[38;5;124m{\u001b[39m\u001b[38;5;124m.*?\u001b[39m\u001b[38;5;124m\\\u001b[39m\u001b[38;5;124m}\u001b[39m\u001b[38;5;124m'\u001b[39m, cadena) \u001b[38;5;28;01mfor\u001b[39;00m cadena \u001b[38;5;129;01min\u001b[39;00m r]\n",
      "\u001b[1;31mIndexError\u001b[0m: list index out of range"
     ]
    }
   ],
   "source": [
    "#Tratamos el archivo JSON de forma total.\n",
    "\n",
    "#importamos el documento y lo convertimos a cadena\n",
    "#crudo = open(\"est.txt\",\"r+\")\n",
    "#prueba = crudo.read()\n",
    "prueba = str(personas.json())\n",
    "\n",
    "\n",
    "\n",
    "#separamos el JSON por estructuras de datos (peticiones)\n",
    "i=0 ;j=0\n",
    "lista = []\n",
    "while i != -1:\n",
    "  lista.append(prueba[i+1:j])\n",
    "  i=j ; i = prueba.find('[',i) ; j = prueba.find(']',i)\n",
    "\n",
    "r = lista[1:]\n",
    "\n",
    "#Tenemos que eliminar saltos de linea y posteriormente convertirlo a diccionario.\n",
    "r = [i.replace('\\n','') for i in r]\n",
    "r = [i.replace('\"location\": {','') for i in r]\n",
    "\n",
    "#extraemos los radios de ubicacion:\n",
    "radios = pd.DataFrame({'radius' : re.findall(r'\"radius\":\\s*(\\d+)',r[1])})\n",
    "#Separamos las estructuras de datos por empleado\n",
    "l = [re.findall(r'\\{.*?\\}', cadena) for cadena in r]\n",
    "\n",
    "#Dividimos la información por concepto de dato\n",
    "personal = [l[0][j] for j in range(len(l[0][:]))]\n",
    "proyectos = [l[1][j] for j in range(len(l[1][:]))]\n",
    "asistencias = [l[2][j] for j in range(len(l[2][:]))]\n",
    "\n",
    "#Convertimos en dataframe la información, donde cada registro sea la informacion de un trabajador\n",
    "df_personal = pd.DataFrame([eval(componente) for componente in personal])\n",
    "df_proyectos = pd.DataFrame([eval(componente) for componente in proyectos])\n",
    "df_asistencias = pd.DataFrame([eval(componente) for componente in asistencias])\n",
    "\n",
    "#agregamos la columna radius a la estructura proyectos\n",
    "df_proyectos['radius'] = pd.DataFrame(re.findall(r'\"radius\":\\s*(\\d+)',r[1]))\n",
    "#unimos las tres tablas, cambiamos nombres y ordenamos las columnas\n",
    "df = pd.merge(df_personal,df_asistencias, on='id', how='inner')[['id','name','phone','projectId','checkin','checkout']]\n",
    "asistencias = pd.merge(df,df_proyectos,on='id',how='inner')\n",
    "asistencias.rename(columns = {'name_x':'employee' , 'name_y':'proyect','code':'po'},inplace = True)\n",
    "asistencias = asistencias[['id','employee','phone','checkin','checkout','proyect','po','latitude','longitude','radius','address']]\n"
   ]
  },
  {
   "cell_type": "code",
   "execution_count": null,
   "metadata": {
    "id": "No1o4y7r6IF7"
   },
   "outputs": [
    {
     "data": {
      "text/html": [
       "<div>\n",
       "<style scoped>\n",
       "    .dataframe tbody tr th:only-of-type {\n",
       "        vertical-align: middle;\n",
       "    }\n",
       "\n",
       "    .dataframe tbody tr th {\n",
       "        vertical-align: top;\n",
       "    }\n",
       "\n",
       "    .dataframe thead th {\n",
       "        text-align: right;\n",
       "    }\n",
       "</style>\n",
       "<table border=\"1\" class=\"dataframe\">\n",
       "  <thead>\n",
       "    <tr style=\"text-align: right;\">\n",
       "      <th></th>\n",
       "      <th>id</th>\n",
       "      <th>code</th>\n",
       "      <th>name</th>\n",
       "      <th>location</th>\n",
       "      <th>radius</th>\n",
       "    </tr>\n",
       "  </thead>\n",
       "  <tbody>\n",
       "    <tr>\n",
       "      <th>0</th>\n",
       "      <td>1</td>\n",
       "      <td>Ob219932</td>\n",
       "      <td>Proyecto 01</td>\n",
       "      <td>{'latitude': -12.1758997, 'longitude': -76.945...</td>\n",
       "      <td>50</td>\n",
       "    </tr>\n",
       "    <tr>\n",
       "      <th>1</th>\n",
       "      <td>2</td>\n",
       "      <td>Ob219933</td>\n",
       "      <td>Proyecto 02</td>\n",
       "      <td>{'latitude': 20.552370071411, 'longitude': -10...</td>\n",
       "      <td>50</td>\n",
       "    </tr>\n",
       "  </tbody>\n",
       "</table>\n",
       "</div>"
      ],
      "text/plain": [
       "   id      code         name  \\\n",
       "0   1  Ob219932  Proyecto 01   \n",
       "1   2  Ob219933  Proyecto 02   \n",
       "\n",
       "                                            location  radius  \n",
       "0  {'latitude': -12.1758997, 'longitude': -76.945...      50  \n",
       "1  {'latitude': 20.552370071411, 'longitude': -10...      50  "
      ]
     },
     "execution_count": 18,
     "metadata": {},
     "output_type": "execute_result"
    }
   ],
   "source": [
    "df1 = pd.DataFrame(proyectos.json())\n",
    "\n",
    "df1"
   ]
  },
  {
   "cell_type": "code",
   "execution_count": null,
   "metadata": {},
   "outputs": [
    {
     "data": {
      "text/html": [
       "<div>\n",
       "<style scoped>\n",
       "    .dataframe tbody tr th:only-of-type {\n",
       "        vertical-align: middle;\n",
       "    }\n",
       "\n",
       "    .dataframe tbody tr th {\n",
       "        vertical-align: top;\n",
       "    }\n",
       "\n",
       "    .dataframe thead th {\n",
       "        text-align: right;\n",
       "    }\n",
       "</style>\n",
       "<table border=\"1\" class=\"dataframe\">\n",
       "  <thead>\n",
       "    <tr style=\"text-align: right;\">\n",
       "      <th></th>\n",
       "      <th>id</th>\n",
       "      <th>personId</th>\n",
       "      <th>checkin</th>\n",
       "    </tr>\n",
       "  </thead>\n",
       "  <tbody>\n",
       "    <tr>\n",
       "      <th>0</th>\n",
       "      <td>1</td>\n",
       "      <td>1</td>\n",
       "      <td>2024-10-29T15:41:44.000Z</td>\n",
       "    </tr>\n",
       "  </tbody>\n",
       "</table>\n",
       "</div>"
      ],
      "text/plain": [
       "   id  personId                   checkin\n",
       "0   1         1  2024-10-29T15:41:44.000Z"
      ]
     },
     "execution_count": 23,
     "metadata": {},
     "output_type": "execute_result"
    }
   ],
   "source": [
    "df3 = pd.DataFrame(asistencias.json())\n",
    "\n",
    "df3"
   ]
  },
  {
   "cell_type": "code",
   "execution_count": null,
   "metadata": {},
   "outputs": [],
   "source": []
  }
 ],
 "metadata": {
  "colab": {
   "authorship_tag": "ABX9TyPZM58nrcrzgrBURzmuCavE",
   "provenance": []
  },
  "kernelspec": {
   "display_name": "virtual_venv",
   "language": "python",
   "name": "python3"
  },
  "language_info": {
   "codemirror_mode": {
    "name": "ipython",
    "version": 3
   },
   "file_extension": ".py",
   "mimetype": "text/x-python",
   "name": "python",
   "nbconvert_exporter": "python",
   "pygments_lexer": "ipython3",
   "version": "3.11.9"
  }
 },
 "nbformat": 4,
 "nbformat_minor": 0
}
