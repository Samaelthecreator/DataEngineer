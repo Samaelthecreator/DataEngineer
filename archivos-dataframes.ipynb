{
 "cells": [
  {
   "cell_type": "markdown",
   "metadata": {},
   "source": [
    "Extracción"
   ]
  },
  {
   "cell_type": "code",
   "execution_count": 6,
   "metadata": {},
   "outputs": [],
   "source": [
    "from google.oauth2 import service_account\n",
    "from googleapiclient.discovery import build\n",
    "import gspread \n",
    "import pandas as pd\n",
    "import numpy as np\n"
   ]
  },
  {
   "cell_type": "code",
   "execution_count": 7,
   "metadata": {},
   "outputs": [],
   "source": [
    "#Documentación\n",
    "ruta_permisos = \"D:/SITEC/permisos/sitecsolucionesyservicios-67cee8fd8c65.json\"          \n",
    "alcances = ['https://www.googleapis.com/auth/spreadsheets','https://www.googleapis.com/auth/drive'] \n",
    "\n",
    "#credenciales\n",
    "cred = service_account.Credentials.from_service_account_file(ruta_permisos, scopes = alcances)\n",
    "\n",
    "#Objeto de conexión\n",
    "servicesheets = build('sheets','v4',credentials=cred)\n",
    "servicedrive = build('drive','v3', credentials= cred)\n",
    "\n",
    "gs = servicesheets.spreadsheets()"
   ]
  },
  {
   "cell_type": "markdown",
   "metadata": {},
   "source": [
    "Tomaremos 3 cotizaciones y extraeremos su información para luego transformarla\n"
   ]
  },
  {
   "cell_type": "code",
   "execution_count": null,
   "metadata": {},
   "outputs": [],
   "source": [
    "#Extracción de una cotización\n",
    "#cotn[nombre,id]\n",
    "cot1 = [\"CTQ-1020 EATON BUSSMANN (SERVICIO DE RENTA DE PLATAFORMA TIJERA JLG MODELO 2030ES)\",\"16h05uAcLjE7rqvFzD9Ij3PDMZcdg-bai5al5Ijz9r2o\"]\n",
    "\n",
    "nom_hoja = 'CARATULA'\n",
    "ran = '!A1:H26'\n",
    "\n",
    "extract1 = gs.values().get(\n",
    "                spreadsheetId = cot1[1],\n",
    "                range = nom_hoja+ran).execute()\n",
    "        \n",
    "       \n",
    "\n",
    "#encabezados = extract1['values'][0]\n",
    "data = extract1['values'][0:]\n",
    "extraccion1 = pd.DataFrame(data)\n",
    "\n",
    "print(extraccion1)"
   ]
  },
  {
   "cell_type": "code",
   "execution_count": 120,
   "metadata": {},
   "outputs": [],
   "source": [
    "#extracción de 3 cotizaciones al mismo tiempo, con su respectivo nombre:\n",
    "metadata = {'CTQ-1020 EATON BUSSMANN (SERVICIO DE RENTA DE PLATAFORMA TIJERA JLG MODELO 2030ES)' : '16h05uAcLjE7rqvFzD9Ij3PDMZcdg-bai5al5Ijz9r2o',\n",
    "            'CTQ-1255 ZF (TRAMITOLOGIA Y GESTION DE INCREMENTOS DE CARGA Y DOCUMENTACION DE OBRAS ANTE CFE) (1)' : '15xpNv-lkcE5ufSMEtweBBAjUA0zv7Ghtv3f-xOlXLPE',\n",
    "            'CTQ-1261 POLIGOF (DICTAMEN ELECTRICO)' : '1gY6FAEvBap8P7LqEPkemuFB2fBpXlpAhQEBtv_NOtvc'}\n",
    "\n",
    "#definimos la estrctura que contendra los datos de la factura\n",
    "#rango = 'A1:H26'\n",
    "\n",
    "def extraccion(service, sp_id,range):\n",
    "    res = gs.values().get(spreadsheetId = sp_id,range = nom_hoja + ran).execute()\n",
    "    values = res.get('values', [])                  #convertimos los dataframes desde la función\n",
    "    return pd.DataFrame(values) \n",
    "    "
   ]
  },
  {
   "cell_type": "code",
   "execution_count": 121,
   "metadata": {},
   "outputs": [
    {
     "ename": "HttpError",
     "evalue": "<HttpError 404 when requesting https://sheets.googleapis.com/v4/spreadsheets/CTQ-1020%20EATON%20BUSSMANN%20%28SERVICIO%20DE%20RENTA%20DE%20PLATAFORMA%20TIJERA%20JLG%20MODELO%202030ES%29/values/CARATULA%21A1%3AH26?alt=json returned \"Requested entity was not found.\". Details: \"Requested entity was not found.\">",
     "output_type": "error",
     "traceback": [
      "\u001b[1;31m---------------------------------------------------------------------------\u001b[0m",
      "\u001b[1;31mHttpError\u001b[0m                                 Traceback (most recent call last)",
      "\u001b[1;32m~\\AppData\\Local\\Temp\\ipykernel_29876\\3330818162.py\u001b[0m in \u001b[0;36m<module>\u001b[1;34m\u001b[0m\n\u001b[0;32m      8\u001b[0m \u001b[1;33m\u001b[0m\u001b[0m\n\u001b[0;32m      9\u001b[0m \u001b[1;32mfor\u001b[0m \u001b[0mid\u001b[0m\u001b[1;33m,\u001b[0m\u001b[0mnombre\u001b[0m \u001b[1;32min\u001b[0m \u001b[0mmetadata\u001b[0m\u001b[1;33m.\u001b[0m\u001b[0mitems\u001b[0m\u001b[1;33m(\u001b[0m\u001b[1;33m)\u001b[0m\u001b[1;33m:\u001b[0m\u001b[1;33m\u001b[0m\u001b[1;33m\u001b[0m\u001b[0m\n\u001b[1;32m---> 10\u001b[1;33m     \u001b[0mcotizaciones\u001b[0m\u001b[1;33m[\u001b[0m\u001b[0mnombre\u001b[0m\u001b[1;33m]\u001b[0m\u001b[1;33m=\u001b[0m \u001b[0mextraccion\u001b[0m\u001b[1;33m(\u001b[0m\u001b[0mgs\u001b[0m\u001b[1;33m,\u001b[0m\u001b[0mid\u001b[0m\u001b[1;33m,\u001b[0m\u001b[0mran\u001b[0m\u001b[1;33m)\u001b[0m\u001b[1;33m\u001b[0m\u001b[1;33m\u001b[0m\u001b[0m\n\u001b[0m\u001b[0;32m     11\u001b[0m \u001b[1;33m\u001b[0m\u001b[0m\n\u001b[0;32m     12\u001b[0m \u001b[1;33m\u001b[0m\u001b[0m\n",
      "\u001b[1;32m~\\AppData\\Local\\Temp\\ipykernel_29876\\382476750.py\u001b[0m in \u001b[0;36mextraccion\u001b[1;34m(service, sp_id, range)\u001b[0m\n\u001b[0;32m      8\u001b[0m \u001b[1;33m\u001b[0m\u001b[0m\n\u001b[0;32m      9\u001b[0m \u001b[1;32mdef\u001b[0m \u001b[0mextraccion\u001b[0m\u001b[1;33m(\u001b[0m\u001b[0mservice\u001b[0m\u001b[1;33m,\u001b[0m \u001b[0msp_id\u001b[0m\u001b[1;33m,\u001b[0m\u001b[0mrange\u001b[0m\u001b[1;33m)\u001b[0m\u001b[1;33m:\u001b[0m\u001b[1;33m\u001b[0m\u001b[1;33m\u001b[0m\u001b[0m\n\u001b[1;32m---> 10\u001b[1;33m     \u001b[0mres\u001b[0m \u001b[1;33m=\u001b[0m \u001b[0mgs\u001b[0m\u001b[1;33m.\u001b[0m\u001b[0mvalues\u001b[0m\u001b[1;33m(\u001b[0m\u001b[1;33m)\u001b[0m\u001b[1;33m.\u001b[0m\u001b[0mget\u001b[0m\u001b[1;33m(\u001b[0m\u001b[0mspreadsheetId\u001b[0m \u001b[1;33m=\u001b[0m \u001b[0msp_id\u001b[0m\u001b[1;33m,\u001b[0m\u001b[0mrange\u001b[0m \u001b[1;33m=\u001b[0m \u001b[0mnom_hoja\u001b[0m \u001b[1;33m+\u001b[0m \u001b[0mran\u001b[0m\u001b[1;33m)\u001b[0m\u001b[1;33m.\u001b[0m\u001b[0mexecute\u001b[0m\u001b[1;33m(\u001b[0m\u001b[1;33m)\u001b[0m\u001b[1;33m\u001b[0m\u001b[1;33m\u001b[0m\u001b[0m\n\u001b[0m\u001b[0;32m     11\u001b[0m     \u001b[0mvalues\u001b[0m \u001b[1;33m=\u001b[0m \u001b[0mres\u001b[0m\u001b[1;33m.\u001b[0m\u001b[0mget\u001b[0m\u001b[1;33m(\u001b[0m\u001b[1;34m'values'\u001b[0m\u001b[1;33m,\u001b[0m \u001b[1;33m[\u001b[0m\u001b[1;33m]\u001b[0m\u001b[1;33m)\u001b[0m                  \u001b[1;31m#convertimos los dataframes desde la función\u001b[0m\u001b[1;33m\u001b[0m\u001b[1;33m\u001b[0m\u001b[0m\n\u001b[0;32m     12\u001b[0m     \u001b[1;32mreturn\u001b[0m \u001b[0mpd\u001b[0m\u001b[1;33m.\u001b[0m\u001b[0mDataFrame\u001b[0m\u001b[1;33m(\u001b[0m\u001b[0mvalues\u001b[0m\u001b[1;33m)\u001b[0m\u001b[1;33m\u001b[0m\u001b[1;33m\u001b[0m\u001b[0m\n",
      "\u001b[1;32mc:\\Users\\52473\\anaconda3\\lib\\site-packages\\googleapiclient\\_helpers.py\u001b[0m in \u001b[0;36mpositional_wrapper\u001b[1;34m(*args, **kwargs)\u001b[0m\n\u001b[0;32m    128\u001b[0m                 \u001b[1;32melif\u001b[0m \u001b[0mpositional_parameters_enforcement\u001b[0m \u001b[1;33m==\u001b[0m \u001b[0mPOSITIONAL_WARNING\u001b[0m\u001b[1;33m:\u001b[0m\u001b[1;33m\u001b[0m\u001b[1;33m\u001b[0m\u001b[0m\n\u001b[0;32m    129\u001b[0m                     \u001b[0mlogger\u001b[0m\u001b[1;33m.\u001b[0m\u001b[0mwarning\u001b[0m\u001b[1;33m(\u001b[0m\u001b[0mmessage\u001b[0m\u001b[1;33m)\u001b[0m\u001b[1;33m\u001b[0m\u001b[1;33m\u001b[0m\u001b[0m\n\u001b[1;32m--> 130\u001b[1;33m             \u001b[1;32mreturn\u001b[0m \u001b[0mwrapped\u001b[0m\u001b[1;33m(\u001b[0m\u001b[1;33m*\u001b[0m\u001b[0margs\u001b[0m\u001b[1;33m,\u001b[0m \u001b[1;33m**\u001b[0m\u001b[0mkwargs\u001b[0m\u001b[1;33m)\u001b[0m\u001b[1;33m\u001b[0m\u001b[1;33m\u001b[0m\u001b[0m\n\u001b[0m\u001b[0;32m    131\u001b[0m \u001b[1;33m\u001b[0m\u001b[0m\n\u001b[0;32m    132\u001b[0m         \u001b[1;32mreturn\u001b[0m \u001b[0mpositional_wrapper\u001b[0m\u001b[1;33m\u001b[0m\u001b[1;33m\u001b[0m\u001b[0m\n",
      "\u001b[1;32mc:\\Users\\52473\\anaconda3\\lib\\site-packages\\googleapiclient\\http.py\u001b[0m in \u001b[0;36mexecute\u001b[1;34m(self, http, num_retries)\u001b[0m\n\u001b[0;32m    936\u001b[0m             \u001b[0mcallback\u001b[0m\u001b[1;33m(\u001b[0m\u001b[0mresp\u001b[0m\u001b[1;33m)\u001b[0m\u001b[1;33m\u001b[0m\u001b[1;33m\u001b[0m\u001b[0m\n\u001b[0;32m    937\u001b[0m         \u001b[1;32mif\u001b[0m \u001b[0mresp\u001b[0m\u001b[1;33m.\u001b[0m\u001b[0mstatus\u001b[0m \u001b[1;33m>=\u001b[0m \u001b[1;36m300\u001b[0m\u001b[1;33m:\u001b[0m\u001b[1;33m\u001b[0m\u001b[1;33m\u001b[0m\u001b[0m\n\u001b[1;32m--> 938\u001b[1;33m             \u001b[1;32mraise\u001b[0m \u001b[0mHttpError\u001b[0m\u001b[1;33m(\u001b[0m\u001b[0mresp\u001b[0m\u001b[1;33m,\u001b[0m \u001b[0mcontent\u001b[0m\u001b[1;33m,\u001b[0m \u001b[0muri\u001b[0m\u001b[1;33m=\u001b[0m\u001b[0mself\u001b[0m\u001b[1;33m.\u001b[0m\u001b[0muri\u001b[0m\u001b[1;33m)\u001b[0m\u001b[1;33m\u001b[0m\u001b[1;33m\u001b[0m\u001b[0m\n\u001b[0m\u001b[0;32m    939\u001b[0m         \u001b[1;32mreturn\u001b[0m \u001b[0mself\u001b[0m\u001b[1;33m.\u001b[0m\u001b[0mpostproc\u001b[0m\u001b[1;33m(\u001b[0m\u001b[0mresp\u001b[0m\u001b[1;33m,\u001b[0m \u001b[0mcontent\u001b[0m\u001b[1;33m)\u001b[0m\u001b[1;33m\u001b[0m\u001b[1;33m\u001b[0m\u001b[0m\n\u001b[0;32m    940\u001b[0m \u001b[1;33m\u001b[0m\u001b[0m\n",
      "\u001b[1;31mHttpError\u001b[0m: <HttpError 404 when requesting https://sheets.googleapis.com/v4/spreadsheets/CTQ-1020%20EATON%20BUSSMANN%20%28SERVICIO%20DE%20RENTA%20DE%20PLATAFORMA%20TIJERA%20JLG%20MODELO%202030ES%29/values/CARATULA%21A1%3AH26?alt=json returned \"Requested entity was not found.\". Details: \"Requested entity was not found.\">"
     ]
    }
   ],
   "source": [
    "#Creamos un diccionario para guardar los dataframes.\n",
    "cotizaciones = {}\n",
    "# for ids,nom_sheet in metadata.items():\n",
    "#     print(f\"este es el nombre: {ids} y este es su id: {nom_sheet}\")\n",
    "\n",
    "#datos = extraccion(gs,metadata['CTQ-1020 EATON BUSSMANN (SERVICIO DE RENTA DE PLATAFORMA TIJERA JLG MODELO 2030ES)'],ran)\n",
    "#print(datos)\n",
    "\n",
    "for id,nombre in metadata.items():\n",
    "    cotizaciones[nombre]= extraccion(gs,id,ran)\n",
    "    \n",
    "\n",
    "\n"
   ]
  },
  {
   "cell_type": "code",
   "execution_count": 88,
   "metadata": {},
   "outputs": [],
   "source": []
  },
  {
   "cell_type": "code",
   "execution_count": null,
   "metadata": {},
   "outputs": [],
   "source": []
  }
 ],
 "metadata": {
  "kernelspec": {
   "display_name": "base",
   "language": "python",
   "name": "python3"
  },
  "language_info": {
   "codemirror_mode": {
    "name": "ipython",
    "version": 3
   },
   "file_extension": ".py",
   "mimetype": "text/x-python",
   "name": "python",
   "nbconvert_exporter": "python",
   "pygments_lexer": "ipython3",
   "version": "3.9.13"
  }
 },
 "nbformat": 4,
 "nbformat_minor": 2
}
