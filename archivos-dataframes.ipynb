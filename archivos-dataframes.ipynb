{
 "cells": [
  {
   "cell_type": "markdown",
   "metadata": {},
   "source": [
    "Extracción"
   ]
  },
  {
   "cell_type": "code",
   "execution_count": 1,
   "metadata": {},
   "outputs": [],
   "source": [
    "from google.oauth2 import service_account\n",
    "from googleapiclient.discovery import build\n",
    "import gspread \n",
    "import pandas as pd\n",
    "import numpy as np\n"
   ]
  },
  {
   "cell_type": "code",
   "execution_count": 2,
   "metadata": {},
   "outputs": [],
   "source": [
    "#Documentación\n",
    "ruta_permisos = \"D:/SITEC/permisos/sitecsolucionesyservicios-67cee8fd8c65.json\"          \n",
    "alcances = ['https://www.googleapis.com/auth/spreadsheets','https://www.googleapis.com/auth/drive'] \n",
    "\n",
    "#credenciales\n",
    "cred = service_account.Credentials.from_service_account_file(ruta_permisos, scopes = alcances)\n",
    "\n",
    "#Objeto de conexión\n",
    "servicesheets = build('sheets','v4',credentials=cred)\n",
    "servicedrive = build('drive','v3', credentials= cred)\n",
    "\n",
    "gs = servicesheets.spreadsheets()"
   ]
  },
  {
   "cell_type": "markdown",
   "metadata": {},
   "source": [
    "Tomaremos 3 cotizaciones y extraeremos su información para luego transformarla\n"
   ]
  },
  {
   "cell_type": "code",
   "execution_count": 3,
   "metadata": {},
   "outputs": [
    {
     "name": "stdout",
     "output_type": "stream",
     "text": [
      "       0                                                  1  \\\n",
      "0   None                                               None   \n",
      "1   None                                               None   \n",
      "2   None                                               None   \n",
      "3         PROYECTO:     SERVICIO DE RENTA PLATAFORMA TIJ...   \n",
      "4                                                             \n",
      "5                            UBICACIÓN:      EATON BUSSMANN   \n",
      "6                            CONTACTO:     VENANCIO MAZATZI   \n",
      "7         DOMICILIO: INFINITO #210, UNIVERSO 2000, QUERE...   \n",
      "8                                                     CLAVE   \n",
      "9   None                                               None   \n",
      "10                                                        1   \n",
      "11                                                        2   \n",
      "12                                                        3   \n",
      "13                                             COSTO TOTAL    \n",
      "14                                 TÉRMINOS Y CONDICIONES:    \n",
      "15        1.-Esta cotizacion NO INCLUYE IVA el cual se c...   \n",
      "16                             2.-Moneda:  MONEDA NACIONAL    \n",
      "17             3.-Vigencia de cotización:  8 días naturales   \n",
      "18        4.-Todo lo no especificado o considerado en es...   \n",
      "19        5.-Favor de enviar su orden de compra al corre...   \n",
      "20        6.-Tiempo de entrega: De 1 a 2 días hábiles, d...   \n",
      "21                    7.- Equipos SUJETOS A DISPONIBILIDAD.   \n",
      "22        8.- Los equipos no se rentan  para trabajos de...   \n",
      "23        9.- La plataforma se renta únicamente para tra...   \n",
      "24        10.- Es responsabilidad del operador contar co...   \n",
      "\n",
      "                                                    2       3          4  \\\n",
      "0                                                None    None       None   \n",
      "1                                                None    None       None   \n",
      "2                                                None    None       None   \n",
      "3                                                                          \n",
      "4                                                                          \n",
      "5                                                                          \n",
      "6                                                                          \n",
      "7                                                                          \n",
      "8                    DESCRIPCION / PARTIDA O CONCEPTO  UNIDAD   CANTIDAD   \n",
      "9                                                None    None       None   \n",
      "10  SERVICIO DE RENTA POR SEIS MESES PLATAFORMA TI...    SERV      6.00    \n",
      "11  SERVICIO DE RENTA POR DOCE MESES PLATAFORMA TI...    SERV     12.00    \n",
      "12         MANIOBRA DE ENTREGA/RECOLECCIÓN POR EQUIPO    SERV      1.00    \n",
      "13                                                                         \n",
      "14                                               None    None       None   \n",
      "15                                               None    None       None   \n",
      "16                                               None    None       None   \n",
      "17                                               None    None       None   \n",
      "18                                               None    None       None   \n",
      "19                                               None    None       None   \n",
      "20                                               None    None       None   \n",
      "21                                               None    None       None   \n",
      "22                                               None    None       None   \n",
      "23                                               None    None       None   \n",
      "24                                               None    None       None   \n",
      "\n",
      "                                                    5  \\\n",
      "0                                                None   \n",
      "1                                                None   \n",
      "2                                                None   \n",
      "3                                                       \n",
      "4                                  FOLIO: CTQ- 001020   \n",
      "5                                            UNE: ...   \n",
      "6                                            FECHA...   \n",
      "7                                            RFC:S...   \n",
      "8                                                P.U.   \n",
      "9                                                None   \n",
      "10                                       $ 23,500.00    \n",
      "11                                       $ 23,500.00    \n",
      "12                                        $ 7,800.00    \n",
      "13                                                      \n",
      "14                                               None   \n",
      "15                                               None   \n",
      "16                                               None   \n",
      "17                                               None   \n",
      "18                                               None   \n",
      "19                                               None   \n",
      "20                                               None   \n",
      "21                                               None   \n",
      "22                                               None   \n",
      "23                                               None   \n",
      "24                                               None   \n",
      "\n",
      "                                    6  \n",
      "0                                None  \n",
      "1                                None  \n",
      "2                                None  \n",
      "3              No de formato: QSS-020  \n",
      "4                                None  \n",
      "5                                None  \n",
      "6                                None  \n",
      "7                                None  \n",
      "8                            CANTIDAD  \n",
      "9                                None  \n",
      "10                      $ 141,000.00   \n",
      "11                      $ 282,000.00   \n",
      "12                        $ 7,800.00   \n",
      "13                      $ 430,800.00   \n",
      "14                               None  \n",
      "15                               None  \n",
      "16                               None  \n",
      "17                               None  \n",
      "18                               None  \n",
      "19                               None  \n",
      "20                               None  \n",
      "21                               None  \n",
      "22                               None  \n",
      "23                               None  \n",
      "24                               None  \n"
     ]
    }
   ],
   "source": [
    "#Extracción de una cotización\n",
    "#cotn[nombre,id]\n",
    "cot1 = [\"CTQ-1020 EATON BUSSMANN (SERVICIO DE RENTA DE PLATAFORMA TIJERA JLG MODELO 2030ES)\",\"16h05uAcLjE7rqvFzD9Ij3PDMZcdg-bai5al5Ijz9r2o\"]\n",
    "\n",
    "nom_hoja = 'CARATULA'\n",
    "ran = '!A1:H26'\n",
    "\n",
    "extract1 = gs.values().get(\n",
    "                spreadsheetId = cot1[1],\n",
    "                range = nom_hoja+ran).execute()\n",
    "        \n",
    "       \n",
    "\n",
    "#encabezados = extract1['values'][0]\n",
    "data = extract1['values'][0:]\n",
    "extraccion1 = pd.DataFrame(data)\n",
    "\n",
    "print(extraccion1)"
   ]
  },
  {
   "cell_type": "code",
   "execution_count": 4,
   "metadata": {},
   "outputs": [],
   "source": [
    "#extracción de 3 cotizaciones al mismo tiempo, con su respectivo nombre:\n",
    "metadata = {'CTQ-1020 EATON BUSSMANN (SERVICIO DE RENTA DE PLATAFORMA TIJERA JLG MODELO 2030ES)' : '16h05uAcLjE7rqvFzD9Ij3PDMZcdg-bai5al5Ijz9r2o',\n",
    "            'CTQ-1255 ZF (TRAMITOLOGIA Y GESTION DE INCREMENTOS DE CARGA Y DOCUMENTACION DE OBRAS ANTE CFE) (1)' : '15xpNv-lkcE5ufSMEtweBBAjUA0zv7Ghtv3f-xOlXLPE',\n",
    "            'CTQ-1261 POLIGOF (DICTAMEN ELECTRICO)' : '1gY6FAEvBap8P7LqEPkemuFB2fBpXlpAhQEBtv_NOtvc'}\n",
    "\n",
    "#definimos la estrctura que contendra los datos de la factura\n",
    "#rango = 'A1:H26'\n",
    "\n",
    "def extraccion(service, sp_id,range):\n",
    "    res = gs.values().get(spreadsheetId = sp_id,range = nom_hoja + ran).execute()\n",
    "    values = res.get('values', [])                  #convertimos los dataframes desde la función\n",
    "    return pd.DataFrame(values) \n",
    "    "
   ]
  },
  {
   "cell_type": "code",
   "execution_count": null,
   "metadata": {},
   "outputs": [],
   "source": [
    "#Creamos un diccionario para guardar los dataframes.\n",
    "cotizaciones = {}\n",
    "# for ids,nom_sheet in metadata.items():\n",
    "#     print(f\"este es el nombre: {ids} y este es su id: {nom_sheet}\")\n",
    "\n",
    "#datos = extraccion(gs,metadata['CTQ-1020 EATON BUSSMANN (SERVICIO DE RENTA DE PLATAFORMA TIJERA JLG MODELO 2030ES)'],ran)\n",
    "#print(datos)\n",
    "\n",
    "\n",
    "\n",
    "for nombre,id in metadata.items():\n",
    "    cotizaciones[nombre]= extraccion(gs,id,ran)\n",
    "    \n",
    "\n",
    "print(cotizaciones)\n"
   ]
  },
  {
   "cell_type": "markdown",
   "metadata": {},
   "source": [
    "Exportando:\n",
    "\n",
    "Convertiremos los dataframes en CSV y los guardaremos en dos ubicaciones:\n",
    "\n",
    "-On premise: dentro del equipo de computo.\n",
    "\n",
    "-On cloud: dentro de Google Drive."
   ]
  },
  {
   "cell_type": "code",
   "execution_count": null,
   "metadata": {},
   "outputs": [],
   "source": [
    "print(extraccion1)"
   ]
  },
  {
   "cell_type": "code",
   "execution_count": 6,
   "metadata": {},
   "outputs": [],
   "source": [
    "#ON PREMISE\n",
    "#exportar dataframes a CSV          #Utilizaremos el modulo .to_csv()\n",
    "import os   #libreria para interactuar con el sistema operativo (trabajar con archivos y directorios, rutas, etc.)\n",
    "\n",
    "#Esta extracción guardara el CSV en la carpeta donde tienes el codigo almacenado  , Utilizaremos una ruta para almecenarlo ena carpeta\n",
    "extraccion1.to_csv('extraccióncsv', sep=',' ,index=False, encoding='utf-8')\n",
    "\n",
    "\n",
    "file_path ='C:/Users/52473/OneDrive/Documentos/SITEC/Cotizaciones/Capa1 extracciónCSV'\n",
    "name = 'extraccion1csv.csv'\n",
    "ruta_total = os.path.join(file_path, name)\n",
    "extraccion1.to_csv(ruta_total, sep=',' ,index=False, encoding='utf-8')"
   ]
  },
  {
   "cell_type": "code",
   "execution_count": 23,
   "metadata": {},
   "outputs": [
    {
     "name": "stdout",
     "output_type": "stream",
     "text": [
      "Archivo subido con ID: 1TEYXaU2Q3fvDH1uqWKOQ77iQz7LFqQS5\n"
     ]
    }
   ],
   "source": [
    "#ON CLOUD\n",
    "#Importamos la siguiente funcion del modulo http de la libreria googleapiclient\n",
    "from googleapiclient.http import MediaFileUpload\n",
    "folder_id = '1tS-6rXHVQna9CD3jafLnQ62Ps4CtZ9xO'\n",
    "\n",
    "#guardaremos el dataframe en un archivo temporal en la extension /tmp\n",
    "\n",
    "ruta_archivo = os.path.join('C:/Users/52473/AppData/Local/Temp' , name)\n",
    "extraccion1.to_csv(ruta_archivo, index = False, encoding = 'UTF-8')\n",
    "\n",
    "#Creamos un archivo vacio tipo .csv en el cual guardaremos el dataframe extraido\n",
    "metadata_archivo = {'name' : name,\n",
    "                    'parents' : [folder_id]}\n",
    "media = MediaFileUpload(ruta_archivo, mimetype= 'text/csv')\n",
    "\n",
    "file = servicedrive.files().create(body = metadata_archivo, media_body = media , fields = 'id').execute()\n",
    "\n",
    "print(f'Archivo subido con ID: {file.get(\"id\")}')\n"
   ]
  }
 ],
 "metadata": {
  "kernelspec": {
   "display_name": "base",
   "language": "python",
   "name": "python3"
  },
  "language_info": {
   "codemirror_mode": {
    "name": "ipython",
    "version": 3
   },
   "file_extension": ".py",
   "mimetype": "text/x-python",
   "name": "python",
   "nbconvert_exporter": "python",
   "pygments_lexer": "ipython3",
   "version": "3.9.13"
  }
 },
 "nbformat": 4,
 "nbformat_minor": 2
}
