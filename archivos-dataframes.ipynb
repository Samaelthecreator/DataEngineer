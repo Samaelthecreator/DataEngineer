{
 "cells": [
  {
   "cell_type": "markdown",
   "metadata": {},
   "source": [
    "Extracción"
   ]
  },
  {
   "cell_type": "code",
   "execution_count": 3,
   "metadata": {},
   "outputs": [],
   "source": [
    "from google.oauth2 import service_account\n",
    "from googleapiclient.discovery import build\n",
    "import gspread \n",
    "import pandas as pd\n",
    "import numpy as np\n"
   ]
  },
  {
   "cell_type": "code",
   "execution_count": 5,
   "metadata": {},
   "outputs": [],
   "source": [
    "#Documentación\n",
    "ruta_permisos = \"D:/SITEC/permisos/sitecsolucionesyservicios-67cee8fd8c65.json\"          \n",
    "alcances = ['https://www.googleapis.com/auth/spreadsheets','https://www.googleapis.com/auth/drive'] \n",
    "\n",
    "#credenciales\n",
    "cred = service_account.Credentials.from_service_account_file(ruta_permisos, scopes = alcances)\n",
    "\n",
    "#Objeto de conexión\n",
    "servicesheets = build('sheets','v4',credentials=cred)\n",
    "servicedrive = build('drive','v3', credentials= cred)\n",
    "\n",
    "gs = servicesheets.spreadsheets()"
   ]
  },
  {
   "cell_type": "markdown",
   "metadata": {},
   "source": [
    "Tomaremos 3 cotizaciones y extraeremos su información para luego transformarla\n"
   ]
  },
  {
   "cell_type": "code",
   "execution_count": null,
   "metadata": {},
   "outputs": [],
   "source": [
    "#Extracción de una cotización\n",
    "#cotn[nombre,id]\n",
    "cot1 = [\"CTQ-1020 EATON BUSSMANN (SERVICIO DE RENTA DE PLATAFORMA TIJERA JLG MODELO 2030ES)\",\"16h05uAcLjE7rqvFzD9Ij3PDMZcdg-bai5al5Ijz9r2o\"]\n",
    "\n",
    "nom_hoja = 'CARATULA'\n",
    "range = '!A1:H26'\n",
    "\n",
    "extract1 = gs.values().get(\n",
    "                spreadsheetId = cot1[1],\n",
    "                range = nom_hoja + range).execute()\n",
    "        \n",
    "       \n",
    "\n",
    "#encabezados = extract1['values'][0]\n",
    "data = extract1['values'][0:]\n",
    "extraccion1 = pd.DataFrame(data)\n",
    "\n",
    "print(extraccion1)"
   ]
  },
  {
   "cell_type": "code",
   "execution_count": null,
   "metadata": {},
   "outputs": [],
   "source": [
    "#extracción de 3 cotizaciones al mismo tiempo, con su respectivo nombre:\n",
    "cot2 = [\"CTQ-1255 ZF (TRAMITOLOGIA Y GESTION DE INCREMENTOS DE CARGA Y DOCUMENTACION DE OBRAS ANTE CFE) (1)\",\"15xpNv-lkcE5ufSMEtweBBAjUA0zv7Ghtv3f-xOlXLPE\"]\n",
    "cot3 = [\"CTQ-1261 POLIGOF (DICTAMEN ELECTRICO)\",\"1gY6FAEvBap8P7LqEPkemuFB2fBpXlpAhQEBtv_NOtvc\"]\n",
    "#definimos la estrctura que contendra los datos de la factura\n",
    "lotefacturas = [cot1,cot2,cot2,]\n",
    "rango = 'A1:H26'\n",
    "print(lotefacturas)\n",
    "\n",
    "def extraccion(service, sp_id,range):\n",
    "    return gs.values().get(spreadsheetId = cot1[1],range = nom_hoja + range).execute()"
   ]
  },
  {
   "cell_type": "code",
   "execution_count": null,
   "metadata": {},
   "outputs": [],
   "source": [
    "for j in range(0,3,1):\n",
    "    extraccion(gs,lotefacturas[j],range)"
   ]
  }
 ],
 "metadata": {
  "kernelspec": {
   "display_name": "base",
   "language": "python",
   "name": "python3"
  },
  "language_info": {
   "codemirror_mode": {
    "name": "ipython",
    "version": 3
   },
   "file_extension": ".py",
   "mimetype": "text/x-python",
   "name": "python",
   "nbconvert_exporter": "python",
   "pygments_lexer": "ipython3",
   "version": "3.9.13"
  }
 },
 "nbformat": 4,
 "nbformat_minor": 2
}
