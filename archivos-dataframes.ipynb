{
 "cells": [
  {
   "cell_type": "markdown",
   "metadata": {},
   "source": [
    "Extracción"
   ]
  },
  {
   "cell_type": "code",
   "execution_count": 6,
   "metadata": {},
   "outputs": [],
   "source": [
    "from google.oauth2 import service_account\n",
    "from googleapiclient.discovery import build\n",
    "import gspread \n",
    "import pandas as pd\n",
    "import numpy as np\n"
   ]
  },
  {
   "cell_type": "code",
   "execution_count": 7,
   "metadata": {},
   "outputs": [],
   "source": [
    "#Documentación\n",
    "ruta_permisos = \"D:/SITEC/permisos/sitecsolucionesyservicios-67cee8fd8c65.json\"          \n",
    "alcances = ['https://www.googleapis.com/auth/spreadsheets','https://www.googleapis.com/auth/drive'] \n",
    "\n",
    "#credenciales\n",
    "cred = service_account.Credentials.from_service_account_file(ruta_permisos, scopes = alcances)\n",
    "\n",
    "#Objeto de conexión\n",
    "servicesheets = build('sheets','v4',credentials=cred)\n",
    "servicedrive = build('drive','v3', credentials= cred)\n",
    "\n",
    "gs = servicesheets.spreadsheets()"
   ]
  },
  {
   "cell_type": "markdown",
   "metadata": {},
   "source": [
    "Tomaremos 3 cotizaciones y extraeremos su información para luego transformarla\n"
   ]
  },
  {
   "cell_type": "code",
   "execution_count": null,
   "metadata": {},
   "outputs": [],
   "source": [
    "#Extracción de una cotización\n",
    "#cotn[nombre,id]\n",
    "cot1 = [\"CTQ-1020 EATON BUSSMANN (SERVICIO DE RENTA DE PLATAFORMA TIJERA JLG MODELO 2030ES)\",\"16h05uAcLjE7rqvFzD9Ij3PDMZcdg-bai5al5Ijz9r2o\"]\n",
    "\n",
    "nom_hoja = 'CARATULA'\n",
    "ran = '!A1:H26'\n",
    "\n",
    "extract1 = gs.values().get(\n",
    "                spreadsheetId = cot1[1],\n",
    "                range = nom_hoja+ran).execute()\n",
    "        \n",
    "       \n",
    "\n",
    "#encabezados = extract1['values'][0]\n",
    "data = extract1['values'][0:]\n",
    "extraccion1 = pd.DataFrame(data)\n",
    "\n",
    "print(extraccion1)"
   ]
  },
  {
   "cell_type": "code",
   "execution_count": 120,
   "metadata": {},
   "outputs": [],
   "source": [
    "#extracción de 3 cotizaciones al mismo tiempo, con su respectivo nombre:\n",
    "metadata = {'CTQ-1020 EATON BUSSMANN (SERVICIO DE RENTA DE PLATAFORMA TIJERA JLG MODELO 2030ES)' : '16h05uAcLjE7rqvFzD9Ij3PDMZcdg-bai5al5Ijz9r2o',\n",
    "            'CTQ-1255 ZF (TRAMITOLOGIA Y GESTION DE INCREMENTOS DE CARGA Y DOCUMENTACION DE OBRAS ANTE CFE) (1)' : '15xpNv-lkcE5ufSMEtweBBAjUA0zv7Ghtv3f-xOlXLPE',\n",
    "            'CTQ-1261 POLIGOF (DICTAMEN ELECTRICO)' : '1gY6FAEvBap8P7LqEPkemuFB2fBpXlpAhQEBtv_NOtvc'}\n",
    "\n",
    "#definimos la estrctura que contendra los datos de la factura\n",
    "#rango = 'A1:H26'\n",
    "\n",
    "def extraccion(service, sp_id,range):\n",
    "    res = gs.values().get(spreadsheetId = sp_id,range = nom_hoja + ran).execute()\n",
    "    values = res.get('values', [])                  #convertimos los dataframes desde la función\n",
    "    return pd.DataFrame(values) \n",
    "    "
   ]
  },
  {
   "cell_type": "code",
   "execution_count": null,
   "metadata": {},
   "outputs": [],
   "source": [
    "#Creamos un diccionario para guardar los dataframes.\n",
    "cotizaciones = {}\n",
    "# for ids,nom_sheet in metadata.items():\n",
    "#     print(f\"este es el nombre: {ids} y este es su id: {nom_sheet}\")\n",
    "\n",
    "#datos = extraccion(gs,metadata['CTQ-1020 EATON BUSSMANN (SERVICIO DE RENTA DE PLATAFORMA TIJERA JLG MODELO 2030ES)'],ran)\n",
    "#print(datos)\n",
    "\n",
    "\n",
    "\n",
    "for nombre,id in metadata.items():\n",
    "    cotizaciones[nombre]= extraccion(gs,id,ran)\n",
    "    \n",
    "\n",
    "print(cotizaciones)\n"
   ]
  },
  {
   "cell_type": "markdown",
   "metadata": {},
   "source": [
    "Exportando:\n",
    "\n",
    "Convertiremos los dataframes en CSV y los guardaremos en dos ubicaciones:\n",
    "\n",
    "-On premise: dentro del equipo de computo.\n",
    "\n",
    "-On cloud: dentro de Google Drive."
   ]
  },
  {
   "cell_type": "code",
   "execution_count": 136,
   "metadata": {},
   "outputs": [],
   "source": [
    "#ON PREMISE\n",
    "#exportar dataframes a CSV          #Utilizaremos el modulo .to_csv()\n",
    "import os   #libreria para interactuar con el sistema operativo (trabajar con archivos y directorios, rutas, etc.)\n",
    "\n",
    "#Esta extracción guardara el CSV en la carpeta donde tienes el codigo almacenado  , Utilizaremos una ruta para almecenarlo ena carpeta\n",
    "extraccion1.to_csv('extraccióncsv', sep=',' ,index=False, encoding='utf-8')\n",
    "\n",
    "\n",
    "file_path ='C:/Users/52473/OneDrive/Documentos/SITEC/Cotizaciones/Capa1 extracciónCSV'\n",
    "name = 'extraccion1csv.csv'\n",
    "ruta_total = os.path.join(file_path, name)\n",
    "extraccion1.to_csv(ruta_total, sep=',' ,index=False, encoding='utf-8')"
   ]
  },
  {
   "cell_type": "code",
   "execution_count": null,
   "metadata": {},
   "outputs": [],
   "source": [
    "#ON CLOUD\n",
    "#Tomaremos el objeto de conexión que creamos anteriormente (servicedrive).\n",
    "folder_id = '1tS-6rXHVQna9CD3jafLnQ62Ps4CtZ9xO'\n",
    "\n",
    "#guardaremos el dataframe en un archivo temporal en la extension /tmp\n",
    "\n",
    "ruta_archivo = os.path.join('/tmp', name)\n",
    "extraccion1.to_csv(ruta_archivo, index = False, encoding = 'UTF-8')\n",
    "\n",
    "#Creamos un archivo vacio tipo .csv en el cual guardaremos el dataframe extraido\n",
    "\n"
   ]
  },
  {
   "cell_type": "markdown",
   "metadata": {},
   "source": [
    "Extraemos las cotizaciones por lotes: \n",
    "\n",
    "los lotes seran \n",
    "2024:\n",
    "\n",
    "Enero\n",
    "\n",
    "Febrero\n",
    "\n",
    "Marzo\n",
    "\n",
    "Abril\n",
    "\n",
    "Mayo"
   ]
  },
  {
   "cell_type": "code",
   "execution_count": 88,
   "metadata": {},
   "outputs": [],
   "source": []
  },
  {
   "cell_type": "code",
   "execution_count": null,
   "metadata": {},
   "outputs": [],
   "source": []
  }
 ],
 "metadata": {
  "kernelspec": {
   "display_name": "base",
   "language": "python",
   "name": "python3"
  },
  "language_info": {
   "codemirror_mode": {
    "name": "ipython",
    "version": 3
   },
   "file_extension": ".py",
   "mimetype": "text/x-python",
   "name": "python",
   "nbconvert_exporter": "python",
   "pygments_lexer": "ipython3",
   "version": "3.9.13"
  }
 },
 "nbformat": 4,
 "nbformat_minor": 2
}
